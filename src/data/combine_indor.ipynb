{
 "cells": [
  {
   "cell_type": "code",
   "execution_count": 16,
   "id": "c3b0bb46",
   "metadata": {},
   "outputs": [],
   "source": [
    "import pandas as pd\n",
    "\n",
    "# 1. Đọc file\n",
    "df = pd.read_csv('comque_new.csv', dtype=str)   # đọc hết dạng string cho an toàn\n",
    "\n",
    "# 2. Tạo cột combine_info\n",
    "#    – thay ký tự NaN bằng chuỗi rỗng\n",
    "#    – nối theo thứ tự bạn muốn\n",
    "cols_to_join = ['type_of_food', 'name_of_food', 'how_to_prepare',\n",
    "                'main_ingredients', 'taste', 'outstanding_fragrance',\n",
    "                'number_of_people_eating']   # bỏ hoặc thêm cột theo nhu cầu\n",
    "\n",
    "df['combine_info'] = (\n",
    "        df[cols_to_join]\n",
    "        .fillna('')               # đẩy NaN về ''\n",
    "        .astype(str)              # đảm bảo toàn bộ là string\n",
    "        .agg(' | '.join, axis=1)  # nối theo dòng\n",
    ")\n",
    "\n",
    "# 3. (Tuỳ chọn) loại bỏ khoảng trắng thừa\n",
    "df['combine_info'] = df['combine_info'].str.replace(r'\\s*\\|\\s*', ', ', regex=True).str.strip()\n",
    "\n",
    "# 4. Lưu lại nếu cần\n",
    "df.to_csv('comque_new.csv', index=False, encoding='utf-8-sig')"
   ]
  }
 ],
 "metadata": {
  "kernelspec": {
   "display_name": ".venv",
   "language": "python",
   "name": "python3"
  },
  "language_info": {
   "codemirror_mode": {
    "name": "ipython",
    "version": 3
   },
   "file_extension": ".py",
   "mimetype": "text/x-python",
   "name": "python",
   "nbconvert_exporter": "python",
   "pygments_lexer": "ipython3",
   "version": "3.11.9"
  }
 },
 "nbformat": 4,
 "nbformat_minor": 5
}
