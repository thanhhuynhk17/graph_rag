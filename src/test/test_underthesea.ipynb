{
 "cells": [
  {
   "cell_type": "code",
   "execution_count": 5,
   "id": "75ffe3d4",
   "metadata": {},
   "outputs": [
    {
     "data": {
      "text/plain": [
       "'thành lệnh quản_lý rất đẹp_trai'"
      ]
     },
     "execution_count": 5,
     "metadata": {},
     "output_type": "execute_result"
    }
   ],
   "source": [
    "from helpers_nlp import AbbreviationProcessor\n",
    "\n",
    "proc = AbbreviationProcessor(\n",
    "    abbr_path=\"../data/viet_tat.json\",\n",
    "    stopwords_path=\"../data/stopwords.txt\",\n",
    ")\n",
    "\n",
    "proc.run(\"Anh thành lệnh quản lý rất đẹp trai nha bà con, mà ảnh chửi thấy mẹ luôn\")"
   ]
  }
 ],
 "metadata": {
  "kernelspec": {
   "display_name": ".venv",
   "language": "python",
   "name": "python3"
  },
  "language_info": {
   "codemirror_mode": {
    "name": "ipython",
    "version": 3
   },
   "file_extension": ".py",
   "mimetype": "text/x-python",
   "name": "python",
   "nbconvert_exporter": "python",
   "pygments_lexer": "ipython3",
   "version": "3.11.9"
  }
 },
 "nbformat": 4,
 "nbformat_minor": 5
}
