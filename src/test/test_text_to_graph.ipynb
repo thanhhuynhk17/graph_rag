{
 "cells": [
  {
   "cell_type": "code",
   "execution_count": null,
   "id": "e40494a2",
   "metadata": {},
   "outputs": [],
   "source": [
    "# from src.mcp_server import save_question\n",
    "\n",
    "# qid = \"Q_test1234\"\n",
    "# result = save_question(qid, \"C123\", \"Nhà hàng nào bán bún chả?\")\n",
    "# print(result)"
   ]
  },
  {
   "cell_type": "markdown",
   "id": "a64cc718",
   "metadata": {},
   "source": [
    "# 📘 Text → Knowledge Graph (Việt Nam Restaurant Domain)\n",
    "\n",
    "Pipeline demo: Từ 1 đoạn văn bản tiếng Việt mô tả hành vi/thói quen khách hàng → trích xuất thực thể & quan hệ → ghi vào Neo4j.\n",
    "\n",
    "Sections:\n",
    "1. Cấu hình & Thư viện\n",
    "2. Kết nối Neo4j\n",
    "3. Đoạn văn bản nguồn\n",
    "4. Tiền xử lý & Tách câu\n",
    "5. NER underthesea\n",
    "6. Từ khóa miền (món ăn, khẩu vị, thời gian)\n",
    "7. Chuẩn hóa & Ánh xạ schema\n",
    "8. Sinh quan hệ rule-based\n",
    "9. Loại trùng & payload\n",
    "10. Sinh Cypher động\n",
    "11. Ghi dữ liệu\n",
    "12. Tạo constraint còn thiếu\n",
    "13. Truy vấn kiểm tra\n",
    "14. Mini visualization\n",
    "15. Pipeline tổng hợp\n",
    "16. Test đoạn text khác\n",
    "17. Log & debug\n"
   ]
  },
  {
   "cell_type": "code",
   "execution_count": 57,
   "id": "4963d749",
   "metadata": {},
   "outputs": [
    {
     "name": "stdout",
     "output_type": "stream",
     "text": [
      "Installing python-dotenv ...\n"
     ]
    },
    {
     "name": "stderr",
     "output_type": "stream",
     "text": [
      "[2025-09-22 16:36:43,070] INFO Libraries imported & config initialized\n"
     ]
    }
   ],
   "source": [
    "# SECTION 1: Cấu hình & Thư viện (Install + Import)\n",
    "import sys, subprocess, importlib, logging, math, json, re, unicodedata, time\n",
    "from pathlib import Path\n",
    "\n",
    "REQUIRED = [\"neo4j\", \"underthesea\", \"python-dotenv\", \"networkx\", \"matplotlib\"]\n",
    "for pkg in REQUIRED:\n",
    "    try:\n",
    "        importlib.import_module(pkg.split('==')[0])\n",
    "    except ImportError:\n",
    "        print(f\"Installing {pkg} ...\")\n",
    "        subprocess.check_call([sys.executable, '-m', 'pip', 'install', pkg])\n",
    "\n",
    "from neo4j import GraphDatabase\n",
    "from underthesea import ner, sent_tokenize, word_tokenize\n",
    "import networkx as nx\n",
    "import matplotlib.pyplot as plt\n",
    "from dataclasses import dataclass\n",
    "\n",
    "logging.basicConfig(level=logging.INFO, format='[%(asctime)s] %(levelname)s %(message)s')\n",
    "logger = logging.getLogger(\"text_to_graph\")\n",
    "\n",
    "@dataclass\n",
    "class Config:\n",
    "    uri: str = \"bolt://localhost:7687\"\n",
    "    user: str = \"neo4j\"\n",
    "    password: str = \"12345678\"\n",
    "    database: str = \"neo4j\"\n",
    "\n",
    "CFG = Config()\n",
    "logger.info(\"Libraries imported & config initialized\")"
   ]
  },
  {
   "cell_type": "code",
   "execution_count": 58,
   "id": "15fce9d8",
   "metadata": {},
   "outputs": [
    {
     "name": "stderr",
     "output_type": "stream",
     "text": [
      "[2025-09-22 16:36:43,160] INFO Neo4j version: 5.26.8 | test=1\n"
     ]
    }
   ],
   "source": [
    "# SECTION 2: Thiết lập Kết nối Neo4j (Driver & Test Ping)\n",
    "from contextlib import contextmanager\n",
    "\n",
    "driver = GraphDatabase.driver(CFG.uri, auth=(CFG.user, CFG.password))\n",
    "\n",
    "@contextmanager\n",
    "def neo4j_session(database: str = CFG.database):\n",
    "    sess = driver.session(database=database)\n",
    "    try:\n",
    "        yield sess\n",
    "    finally:\n",
    "        sess.close()\n",
    "\n",
    "with neo4j_session() as s:\n",
    "    ver = s.run(\"CALL dbms.components() YIELD name, versions RETURN name, versions[0] AS version LIMIT 1\").data()\n",
    "    test = s.run(\"RETURN 1 AS ok\").single()[\"ok\"]\n",
    "    logger.info(f\"Neo4j version: {ver[0]['version']} | test={test}\")"
   ]
  },
  {
   "cell_type": "code",
   "execution_count": 59,
   "id": "c1cfa7a0",
   "metadata": {},
   "outputs": [
    {
     "name": "stdout",
     "output_type": "stream",
     "text": [
      "Khách hàng Nguyễn Văn A rất thích các món Khô, đặc biệt là Bánh xèo giòn thơm. Anh ấy thường đi ăn vào khoảng 18:00-20:30 tối Thứ Hai và đôi khi chọn thêm món có hương vị Khô để cân bằng.\n"
     ]
    }
   ],
   "source": [
    "# SECTION 3: Định nghĩa Đoạn Văn Bản Nguồn (1 đoạn text mẫu)\n",
    "raw_text = (\n",
    "    \"Khách hàng Nguyễn Văn A rất thích các món Khô, đặc biệt là Bánh xèo giòn thơm. \"\n",
    "    \"Anh ấy thường đi ăn vào khoảng 18:00-20:30 tối Thứ Hai và đôi khi chọn thêm món có hương vị Khô để cân bằng.\"\n",
    ")\n",
    "print(raw_text)"
   ]
  },
  {
   "cell_type": "code",
   "execution_count": 60,
   "id": "b6ee1f4d",
   "metadata": {},
   "outputs": [
    {
     "name": "stdout",
     "output_type": "stream",
     "text": [
      "Sentence 0: Khách hàng Nguyễn Văn A rất thích các món Khô, đặc biệt là Bánh xèo giòn thơm.\n",
      "Sentence 1: Anh ấy thường đi ăn vào khoảng 18:00-20:30 tối Thứ Hai và đôi khi chọn thêm món có hương vị Khô để cân bằng.\n"
     ]
    }
   ],
   "source": [
    "# SECTION 4: Tiền Xử Lý & Tách Câu\n",
    "\n",
    "def normalize_text(txt: str) -> str:\n",
    "    txt = unicodedata.normalize('NFC', txt)\n",
    "    txt = re.sub(r\"\\s+\", \" \", txt).strip()\n",
    "    return txt\n",
    "\n",
    "def split_sentences(txt: str):\n",
    "    txt = normalize_text(txt)\n",
    "    # underthesea sent_tokenize đôi khi tách chưa chuẩn với câu ngắn => fallback simple split\n",
    "    try:\n",
    "        sents = sent_tokenize(txt)\n",
    "    except Exception:\n",
    "        sents = re.split(r\"(?<=[.!?])\\s+\", txt)\n",
    "    return [s.strip() for s in sents if s.strip()]\n",
    "\n",
    "sentences = split_sentences(raw_text)\n",
    "for i, s in enumerate(sentences):\n",
    "    print(f\"Sentence {i}: {s}\")"
   ]
  },
  {
   "cell_type": "code",
   "execution_count": 61,
   "id": "d14594fe",
   "metadata": {},
   "outputs": [
    {
     "name": "stderr",
     "output_type": "stream",
     "text": [
      "[2025-09-22 16:36:43,185] INFO Sample raw NER span[0]: ('Khách hàng', 'N', 'B-NP', 'O')\n"
     ]
    },
    {
     "name": "stdout",
     "output_type": "stream",
     "text": [
      "NER entities:\n",
      "{'text': 'Khách hàng', 'label': 'B-NP', 'start': 'O', 'end': None, 'sent_id': 0, 'sentence': 'Khách hàng Nguyễn Văn A rất thích các món Khô, đặc biệt là Bánh xèo giòn thơm.'}\n",
      "{'text': 'Nguyễn Văn A', 'label': 'B-NP', 'start': 'B-PER', 'end': None, 'sent_id': 0, 'sentence': 'Khách hàng Nguyễn Văn A rất thích các món Khô, đặc biệt là Bánh xèo giòn thơm.'}\n",
      "{'text': 'thích', 'label': 'B-VP', 'start': 'O', 'end': None, 'sent_id': 0, 'sentence': 'Khách hàng Nguyễn Văn A rất thích các món Khô, đặc biệt là Bánh xèo giòn thơm.'}\n",
      "{'text': 'các', 'label': 'B-NP', 'start': 'O', 'end': None, 'sent_id': 0, 'sentence': 'Khách hàng Nguyễn Văn A rất thích các món Khô, đặc biệt là Bánh xèo giòn thơm.'}\n",
      "{'text': 'món', 'label': 'B-NP', 'start': 'B-LOC', 'end': None, 'sent_id': 0, 'sentence': 'Khách hàng Nguyễn Văn A rất thích các món Khô, đặc biệt là Bánh xèo giòn thơm.'}\n",
      "{'text': 'Khô', 'label': 'B-NP', 'start': 'I-LOC', 'end': None, 'sent_id': 0, 'sentence': 'Khách hàng Nguyễn Văn A rất thích các món Khô, đặc biệt là Bánh xèo giòn thơm.'}\n",
      "{'text': 'đặc biệt', 'label': 'B-AP', 'start': 'O', 'end': None, 'sent_id': 0, 'sentence': 'Khách hàng Nguyễn Văn A rất thích các món Khô, đặc biệt là Bánh xèo giòn thơm.'}\n",
      "{'text': 'Bánh xèo', 'label': 'B-NP', 'start': 'O', 'end': None, 'sent_id': 0, 'sentence': 'Khách hàng Nguyễn Văn A rất thích các món Khô, đặc biệt là Bánh xèo giòn thơm.'}\n",
      "{'text': 'giòn thơm', 'label': 'B-VP', 'start': 'O', 'end': None, 'sent_id': 0, 'sentence': 'Khách hàng Nguyễn Văn A rất thích các món Khô, đặc biệt là Bánh xèo giòn thơm.'}\n",
      "{'text': 'Anh', 'label': 'B-NP', 'start': 'O', 'end': None, 'sent_id': 1, 'sentence': 'Anh ấy thường đi ăn vào khoảng 18:00-20:30 tối Thứ Hai và đôi khi chọn thêm món có hương vị Khô để cân bằng.'}\n",
      "{'text': 'ấy', 'label': 'B-NP', 'start': 'O', 'end': None, 'sent_id': 1, 'sentence': 'Anh ấy thường đi ăn vào khoảng 18:00-20:30 tối Thứ Hai và đôi khi chọn thêm món có hương vị Khô để cân bằng.'}\n",
      "{'text': 'đi', 'label': 'B-VP', 'start': 'O', 'end': None, 'sent_id': 1, 'sentence': 'Anh ấy thường đi ăn vào khoảng 18:00-20:30 tối Thứ Hai và đôi khi chọn thêm món có hương vị Khô để cân bằng.'}\n",
      "{'text': 'ăn', 'label': 'B-VP', 'start': 'O', 'end': None, 'sent_id': 1, 'sentence': 'Anh ấy thường đi ăn vào khoảng 18:00-20:30 tối Thứ Hai và đôi khi chọn thêm món có hương vị Khô để cân bằng.'}\n",
      "{'text': '18', 'label': 'B-NP', 'start': 'O', 'end': None, 'sent_id': 1, 'sentence': 'Anh ấy thường đi ăn vào khoảng 18:00-20:30 tối Thứ Hai và đôi khi chọn thêm món có hương vị Khô để cân bằng.'}\n",
      "{'text': '00-20', 'label': 'B-VP', 'start': 'O', 'end': None, 'sent_id': 1, 'sentence': 'Anh ấy thường đi ăn vào khoảng 18:00-20:30 tối Thứ Hai và đôi khi chọn thêm món có hương vị Khô để cân bằng.'}\n",
      "{'text': '30', 'label': 'B-NP', 'start': 'O', 'end': None, 'sent_id': 1, 'sentence': 'Anh ấy thường đi ăn vào khoảng 18:00-20:30 tối Thứ Hai và đôi khi chọn thêm món có hương vị Khô để cân bằng.'}\n",
      "{'text': 'tối', 'label': 'B-NP', 'start': 'B-LOC', 'end': None, 'sent_id': 1, 'sentence': 'Anh ấy thường đi ăn vào khoảng 18:00-20:30 tối Thứ Hai và đôi khi chọn thêm món có hương vị Khô để cân bằng.'}\n",
      "{'text': 'Thứ Hai', 'label': 'B-NP', 'start': 'I-LOC', 'end': None, 'sent_id': 1, 'sentence': 'Anh ấy thường đi ăn vào khoảng 18:00-20:30 tối Thứ Hai và đôi khi chọn thêm món có hương vị Khô để cân bằng.'}\n",
      "{'text': 'đôi khi', 'label': 'B-VP', 'start': 'O', 'end': None, 'sent_id': 1, 'sentence': 'Anh ấy thường đi ăn vào khoảng 18:00-20:30 tối Thứ Hai và đôi khi chọn thêm món có hương vị Khô để cân bằng.'}\n",
      "{'text': 'chọn', 'label': 'B-VP', 'start': 'O', 'end': None, 'sent_id': 1, 'sentence': 'Anh ấy thường đi ăn vào khoảng 18:00-20:30 tối Thứ Hai và đôi khi chọn thêm món có hương vị Khô để cân bằng.'}\n",
      "{'text': 'thêm', 'label': 'B-VP', 'start': 'O', 'end': None, 'sent_id': 1, 'sentence': 'Anh ấy thường đi ăn vào khoảng 18:00-20:30 tối Thứ Hai và đôi khi chọn thêm món có hương vị Khô để cân bằng.'}\n",
      "{'text': 'món', 'label': 'B-NP', 'start': 'O', 'end': None, 'sent_id': 1, 'sentence': 'Anh ấy thường đi ăn vào khoảng 18:00-20:30 tối Thứ Hai và đôi khi chọn thêm món có hương vị Khô để cân bằng.'}\n",
      "{'text': 'có', 'label': 'B-VP', 'start': 'O', 'end': None, 'sent_id': 1, 'sentence': 'Anh ấy thường đi ăn vào khoảng 18:00-20:30 tối Thứ Hai và đôi khi chọn thêm món có hương vị Khô để cân bằng.'}\n",
      "{'text': 'hương vị', 'label': 'B-NP', 'start': 'B-LOC', 'end': None, 'sent_id': 1, 'sentence': 'Anh ấy thường đi ăn vào khoảng 18:00-20:30 tối Thứ Hai và đôi khi chọn thêm món có hương vị Khô để cân bằng.'}\n",
      "{'text': 'Khô', 'label': 'B-NP', 'start': 'I-LOC', 'end': None, 'sent_id': 1, 'sentence': 'Anh ấy thường đi ăn vào khoảng 18:00-20:30 tối Thứ Hai và đôi khi chọn thêm món có hương vị Khô để cân bằng.'}\n",
      "{'text': 'để', 'label': 'B-PP', 'start': 'O', 'end': None, 'sent_id': 1, 'sentence': 'Anh ấy thường đi ăn vào khoảng 18:00-20:30 tối Thứ Hai và đôi khi chọn thêm món có hương vị Khô để cân bằng.'}\n",
      "{'text': 'cân bằng', 'label': 'B-VP', 'start': 'O', 'end': None, 'sent_id': 1, 'sentence': 'Anh ấy thường đi ăn vào khoảng 18:00-20:30 tối Thứ Hai và đôi khi chọn thêm món có hương vị Khô để cân bằng.'}\n"
     ]
    }
   ],
   "source": [
    "# SECTION 5: Nhận Diện Thực Thể (NER with underthesea)\n",
    "# underthesea.ner đôi khi thay đổi format tuple giữa các phiên bản.\n",
    "# Ta viết hàm parser linh hoạt để tránh lỗi unpack.\n",
    "\n",
    "def parse_span(span, sentence):\n",
    "    \"\"\"Return (form,pos,label,start,end) with graceful fallbacks.\"\"\"\n",
    "    form = pos = label = None\n",
    "    start = end = None\n",
    "    if isinstance(span, (list, tuple)):\n",
    "        ln = len(span)\n",
    "        # Các khả năng thường gặp:\n",
    "        # (form, pos, label)\n",
    "        # (form, pos, label, start)\n",
    "        # (form, pos, label, start, end)\n",
    "        if ln == 5:\n",
    "            form, pos, label, start, end = span\n",
    "        elif ln == 4:\n",
    "            form, pos, label, start = span\n",
    "            end = start + len(form) if isinstance(start, int) else None\n",
    "        elif ln == 3:\n",
    "            form, pos, label = span\n",
    "            # tìm vị trí đầu tiên (best effort)\n",
    "            try:\n",
    "                start = sentence.index(form)\n",
    "                end = start + len(form)\n",
    "            except ValueError:\n",
    "                start = end = None\n",
    "        else:\n",
    "            return None\n",
    "    else:\n",
    "        return None\n",
    "    return form, pos, label, start, end\n",
    "\n",
    "\n",
    "def run_ner(sent_list):\n",
    "    results = []\n",
    "    for sid, sent in enumerate(sent_list):\n",
    "        try:\n",
    "            spans = ner(sent)\n",
    "        except Exception as e:\n",
    "            logger.warning(f\"NER fail sentence {sid}: {e}\")\n",
    "            spans = []\n",
    "        if spans and sid == 0:\n",
    "            logger.info(f\"Sample raw NER span[0]: {spans[0]}\")\n",
    "        for span in spans:\n",
    "            parsed = parse_span(span, sent)\n",
    "            if not parsed:\n",
    "                continue\n",
    "            form, pos, r, start, end = parsed\n",
    "            if r and r != 'O':\n",
    "                results.append({\n",
    "                    'text': form,\n",
    "                    'label': r,\n",
    "                    'start': start,\n",
    "                    'end': end,\n",
    "                    'sent_id': sid,\n",
    "                    'sentence': sent\n",
    "                })\n",
    "    return results\n",
    "\n",
    "ner_entities = run_ner(sentences)\n",
    "print(\"NER entities:\")\n",
    "for e in ner_entities:\n",
    "    print(e)"
   ]
  },
  {
   "cell_type": "code",
   "execution_count": 62,
   "id": "45319884",
   "metadata": {},
   "outputs": [
    {
     "name": "stdout",
     "output_type": "stream",
     "text": [
      "Dishes: ['bánh xèo']\n",
      "Tags: []\n",
      "TimeSlots: ['18:00-20:30']\n",
      "Days: ['Mon']\n"
     ]
    }
   ],
   "source": [
    "# SECTION 6: Rút Trích Thuộc Tính & Từ Khóa Miền\n",
    "# Tạm thời dùng từ điển cứng; có thể mở rộng bằng truy vấn Neo4j để lấy danh sách thực tế.\n",
    "DOMAIN_DISHES = {\"bánh xèo\": \"Dish\"}\n",
    "DOMAIN_TAGS = {\"đồ béo\": \"Tag\", \"nhạt\": \"Tag\"}\n",
    "TIME_SLOT_PATTERN = re.compile(r\"\\b(\\d{2}:\\d{2}-\\d{2}:\\d{2})\\b\")\n",
    "DAY_MAP = {\"thứ hai\": \"Mon\", \"thứ ba\": \"Tue\", \"thứ tư\": \"Wed\", \"thứ năm\": \"Thu\", \"thứ sáu\": \"Fri\", \"thứ bảy\": \"Sat\", \"chủ nhật\": \"Sun\"}\n",
    "\n",
    "# Simple token scan (lowercase)\n",
    "text_lower = raw_text.lower()\n",
    "found_dishes = [d for d in DOMAIN_DISHES if d in text_lower]\n",
    "found_tags = [t for t in DOMAIN_TAGS if t in text_lower]\n",
    "found_slots = TIME_SLOT_PATTERN.findall(raw_text)\n",
    "found_days = [DAY_MAP[k] for k in DAY_MAP if k in text_lower]\n",
    "\n",
    "print(\"Dishes:\", found_dishes)\n",
    "print(\"Tags:\", found_tags)\n",
    "print(\"TimeSlots:\", found_slots)\n",
    "print(\"Days:\", found_days)"
   ]
  },
  {
   "cell_type": "code",
   "execution_count": 63,
   "id": "0f274c5e",
   "metadata": {},
   "outputs": [
    {
     "name": "stdout",
     "output_type": "stream",
     "text": [
      "Nodes collected (raw):\n",
      "{'label': 'Dish', 'key': 'name_of_food', 'value': 'Bánh xèo'}\n",
      "{'label': 'TimeSlot', 'key': 'slot', 'value': '18:00-20:30'}\n",
      "{'label': 'DayOfWeek', 'key': 'day', 'value': 'Mon'}\n"
     ]
    }
   ],
   "source": [
    "# SECTION 7: Chuẩn Hóa & Ánh Xạ Thực Thể → Schema\n",
    "\n",
    "def normalize_entity(text: str):\n",
    "    t = text.strip()\n",
    "    t = re.sub(r\"[\"\"'“”‘’,;:.!?]\", \"\", t)\n",
    "    return t[:1].upper() + t[1:] if t else t\n",
    "\n",
    "nodes_collected = []\n",
    "# Customer implicit 1 khách => tạo 1 node Customer với full_name nếu có entity PER\n",
    "customer_name = None\n",
    "for e in ner_entities:\n",
    "    if e['label'] == 'PER' and len(e['text'].split()) >= 2:\n",
    "        customer_name = normalize_entity(e['text'])\n",
    "        break\n",
    "if customer_name:\n",
    "    nodes_collected.append({'label': 'Customer', 'key': 'full_name', 'value': customer_name})\n",
    "\n",
    "for d in found_dishes:\n",
    "    nodes_collected.append({'label': 'Dish', 'key': 'name_of_food', 'value': normalize_entity(d)})\n",
    "for t in found_tags:\n",
    "    nodes_collected.append({'label': 'Tag', 'key': 'tag', 'value': normalize_entity(t)})\n",
    "for slot in found_slots:\n",
    "    nodes_collected.append({'label': 'TimeSlot', 'key': 'slot', 'value': slot})\n",
    "for day in found_days:\n",
    "    nodes_collected.append({'label': 'DayOfWeek', 'key': 'day', 'value': day})\n",
    "\n",
    "print(\"Nodes collected (raw):\")\n",
    "for n in nodes_collected:\n",
    "    print(n)"
   ]
  },
  {
   "cell_type": "code",
   "execution_count": 64,
   "id": "5eb25c7d",
   "metadata": {},
   "outputs": [
    {
     "name": "stdout",
     "output_type": "stream",
     "text": [
      "Relationships raw:\n"
     ]
    }
   ],
   "source": [
    "# SECTION 8: Sinh Quan Hệ Tiềm Năng (rule-based)\n",
    "relationships_raw = []\n",
    "\n",
    "# Patterns đơn giản dựa trên từ khóa trong text\n",
    "if customer_name:\n",
    "    if found_tags:\n",
    "        for t in found_tags:\n",
    "            relationships_raw.append({\n",
    "                'start': ('Customer', 'full_name', customer_name),\n",
    "                'type': 'FOLLOWS',\n",
    "                'end': ('Tag', 'tag', normalize_entity(t)),\n",
    "                'props': {}\n",
    "            })\n",
    "    if found_dishes:\n",
    "        # tạo Bill giả lập trong phạm vi đoạn text? Đơn giản: liên kết trực tiếp Customer→Dish bằng PREFERS\n",
    "        for d in found_dishes:\n",
    "            relationships_raw.append({\n",
    "                'start': ('Customer', 'full_name', customer_name),\n",
    "                'type': 'PREFERS_DISH',\n",
    "                'end': ('Dish', 'name_of_food', normalize_entity(d)),\n",
    "                'props': {}\n",
    "            })\n",
    "    if found_slots:\n",
    "        for slot in found_slots:\n",
    "            relationships_raw.append({\n",
    "                'start': ('Customer', 'full_name', customer_name),\n",
    "                'type': 'HABIT_AT',\n",
    "                'end': ('TimeSlot', 'slot', slot),\n",
    "                'props': {}\n",
    "            })\n",
    "    if found_days:\n",
    "        for day in found_days:\n",
    "            relationships_raw.append({\n",
    "                'start': ('Customer', 'full_name', customer_name),\n",
    "                'type': 'HABIT_ON',\n",
    "                'end': ('DayOfWeek', 'day', day),\n",
    "                'props': {}\n",
    "            })\n",
    "\n",
    "print(\"Relationships raw:\")\n",
    "for r in relationships_raw:\n",
    "    print(r)"
   ]
  },
  {
   "cell_type": "code",
   "execution_count": 65,
   "id": "ef498a9b",
   "metadata": {},
   "outputs": [
    {
     "name": "stdout",
     "output_type": "stream",
     "text": [
      "Nodes payload:\n",
      "[{'label': 'Dish', 'key': 'name_of_food', 'value': 'Bánh xèo'}, {'label': 'TimeSlot', 'key': 'slot', 'value': '18:00-20:30'}, {'label': 'DayOfWeek', 'key': 'day', 'value': 'Mon'}]\n",
      "Rels payload:\n",
      "[]\n"
     ]
    }
   ],
   "source": [
    "# SECTION 9: Loại Bỏ Trùng Lặp & Tạo Payload Upsert\n",
    "\n",
    "def deduplicate_nodes(nodes):\n",
    "    seen = {}\n",
    "    for n in nodes:\n",
    "        k = (n['label'], n['key'], n['value'])\n",
    "        if k not in seen:\n",
    "            seen[k] = n\n",
    "    return list(seen.values())\n",
    "\n",
    "def build_payload(nodes, rels):\n",
    "    nodes_dedup = deduplicate_nodes(nodes)\n",
    "    rels_dedup = []\n",
    "    seen_rel = set()\n",
    "    for r in rels:\n",
    "        key = (r['start'], r['type'], r['end'])\n",
    "        if key not in seen_rel:\n",
    "            seen_rel.add(key)\n",
    "            rels_dedup.append(r)\n",
    "    return nodes_dedup, rels_dedup\n",
    "\n",
    "nodes_payload, rels_payload = build_payload(nodes_collected, relationships_raw)\n",
    "print(\"Nodes payload:\")\n",
    "print(nodes_payload)\n",
    "print(\"Rels payload:\")\n",
    "print(rels_payload)"
   ]
  },
  {
   "cell_type": "code",
   "execution_count": 66,
   "id": "355ca3c8",
   "metadata": {},
   "outputs": [
    {
     "name": "stdout",
     "output_type": "stream",
     "text": [
      "Cypher dynamic builder ready.\n"
     ]
    }
   ],
   "source": [
    "# SECTION 10: Sinh Cypher Động (UNWIND + MERGE patterns)\n",
    "\n",
    "NODE_KEY_MAP = {\n",
    "    'Customer': 'full_name',\n",
    "    'Dish': 'name_of_food',\n",
    "    'Tag': 'tag',\n",
    "    'TimeSlot': 'slot',\n",
    "    'DayOfWeek': 'day'\n",
    "}\n",
    "\n",
    "MERGE_NODE_SNIPPET = {\n",
    "    label: f\"MERGE (n:{label} {{{key}: node.value}})\" for label, key in NODE_KEY_MAP.items()\n",
    "}\n",
    "\n",
    "REL_CLAUSES = {\n",
    "    'FOLLOWS': 'CREATE UNIQUE (a)-[:FOLLOWS]->(b)',  # We'll adapt to MERGE below\n",
    "}\n",
    "\n",
    "CYTHER_TEMPLATE = \"\"\"\n",
    "UNWIND $nodes AS node\n",
    "CALL {\n",
    "  WITH node\n",
    "  {node_merges}\n",
    "  RETURN 0\n",
    "}\n",
    "UNWIND $rels AS rel\n",
    "MATCH (s:{start_label} {{{start_key}: rel.start_value}})\n",
    "MATCH (e:{end_label} {{{end_key}: rel.end_value}})\n",
    "MERGE (s)-[r:{rel_type}]->(e)\n",
    "SET r += rel.props\n",
    "\"\"\"\n",
    "\n",
    "# We'll build per relationship type dynamically at execution time rather than fully static multi label template.\n",
    "print(\"Cypher dynamic builder ready.\")"
   ]
  },
  {
   "cell_type": "code",
   "execution_count": 67,
   "id": "04084663",
   "metadata": {},
   "outputs": [
    {
     "name": "stderr",
     "output_type": "stream",
     "text": [
      "[2025-09-22 16:36:43,296] INFO Write complete (approx): nodes_created=0 rels_created=0\n"
     ]
    },
    {
     "data": {
      "text/plain": [
       "{'nodes_written': 0, 'rels_written': 0}"
      ]
     },
     "execution_count": 67,
     "metadata": {},
     "output_type": "execute_result"
    }
   ],
   "source": [
    "# SECTION 11: Ghi Dữ Liệu Lên Neo4j (rewrite: dùng FOREACH tránh subquery WITH + WHERE lỗi)\n",
    "# Nguyên nhân lỗi trước: nhiều CALL { WITH node WHERE ... } tuần tự; Neo4j hạn chế WITH import + WHERE dạng này.\n",
    "# Cách mới: UNWIND và dùng FOREACH + CASE để điều kiện hoá MERGE theo label, tránh xung đột biến / hạn chế cú pháp.\n",
    "\n",
    "LABEL_KEY = {\n",
    "    'Customer': 'full_name',\n",
    "    'Dish': 'name_of_food',\n",
    "    'Tag': 'tag',\n",
    "    'TimeSlot': 'slot',\n",
    "    'DayOfWeek': 'day'\n",
    "}\n",
    "\n",
    "REL_MATCH = {\n",
    "    'FOLLOWS':   ('Customer','full_name','Tag','tag','FOLLOWS'),\n",
    "    'PREFERS_DISH': ('Customer','full_name','Dish','name_of_food','PREFERS_DISH'),\n",
    "    'HABIT_AT':  ('Customer','full_name','TimeSlot','slot','HABIT_AT'),\n",
    "    'HABIT_ON':  ('Customer','full_name','DayOfWeek','day','HABIT_ON')\n",
    "}\n",
    "\n",
    "from collections import defaultdict\n",
    "\n",
    "def build_node_query(labels_present):\n",
    "    parts = [\"UNWIND $nodes AS node\"]\n",
    "    for label in sorted(labels_present):\n",
    "        key = LABEL_KEY[label]\n",
    "        parts.append(\n",
    "            f\"FOREACH (_ IN CASE WHEN node.label='{label}' THEN [1] ELSE [] END | MERGE (: {label} {{{key}: node.value}}))\".replace(': ', ':')\n",
    "        )\n",
    "    return \"\\n\".join(parts)\n",
    "\n",
    "def build_rel_query(rel_types_present):\n",
    "    parts = [\"UNWIND $rels AS rel\"]\n",
    "    for rtype in sorted(rel_types_present):\n",
    "        if rtype not in REL_MATCH:\n",
    "            continue\n",
    "        sl, sk, el, ek, cypher_type = REL_MATCH[rtype]\n",
    "        parts.append(\n",
    "            (\n",
    "                \"FOREACH (_ IN CASE WHEN rel.type='\" + rtype + \"' THEN [1] ELSE [] END | \"\n",
    "                f\"MATCH (s:{sl} {{{sk}: rel.start_value}}) \"\n",
    "                f\"MATCH (e:{el} {{{ek}: rel.end_value}}) \"\n",
    "                f\"MERGE (s)-[r:{cypher_type}]->(e) SET r += rel.props )\"\n",
    "            )\n",
    "        )\n",
    "    return \"\\n\".join(parts)\n",
    "\n",
    "\n",
    "def write_graph(nodes_payload, rels_payload):\n",
    "    if not nodes_payload and not rels_payload:\n",
    "        logger.info(\"Nothing to write\")\n",
    "        return {'nodes_written':0,'rels_written':0}\n",
    "\n",
    "    node_params = [\n",
    "        {'label': n['label'], 'key': n['key'], 'value': n['value']} for n in nodes_payload\n",
    "    ]\n",
    "\n",
    "    rel_params = []\n",
    "    for r in rels_payload:\n",
    "        (sl, sk, sv) = r['start']\n",
    "        (el, ek, ev) = r['end']\n",
    "        rel_params.append({\n",
    "            'type': r['type'],\n",
    "            'start_value': sv,\n",
    "            'end_value': ev,\n",
    "            'props': r['props']\n",
    "        })\n",
    "\n",
    "    labels_present = {n['label'] for n in nodes_payload}\n",
    "    rel_types_present = {r['type'] for r in rel_params}\n",
    "\n",
    "    node_query = build_node_query(labels_present) if labels_present else None\n",
    "    rel_query  = build_rel_query(rel_types_present) if rel_types_present else None\n",
    "\n",
    "    nodes_written = 0\n",
    "    rels_written = 0\n",
    "    with neo4j_session() as s:\n",
    "        if node_query:\n",
    "            summary_nodes = s.run(node_query, nodes=node_params).consume()\n",
    "            c = summary_nodes.counters\n",
    "            nodes_written = c.nodes_created + c.nodes_deleted + 0  # created only is fine\n",
    "        if rel_query and rel_params:\n",
    "            summary_rels = s.run(rel_query, rels=rel_params).consume()\n",
    "            rels_written = summary_rels.counters.relationships_created\n",
    "\n",
    "    logger.info(f\"Write complete (approx): nodes_created={nodes_written} rels_created={rels_written}\")\n",
    "    return {'nodes_written': nodes_written, 'rels_written': rels_written}\n",
    "\n",
    "# Chạy lại sau khi vá\n",
    "write_stats = write_graph(nodes_payload, rels_payload)\n",
    "write_stats"
   ]
  },
  {
   "cell_type": "code",
   "execution_count": 68,
   "id": "9c6256d1",
   "metadata": {},
   "outputs": [
    {
     "name": "stderr",
     "output_type": "stream",
     "text": [
      "[2025-09-22 16:36:43,312] INFO Received notification from DBMS server: {severity: INFORMATION} {code: Neo.ClientNotification.Schema.IndexOrConstraintAlreadyExists} {category: SCHEMA} {title: `CREATE CONSTRAINT IF NOT EXISTS FOR (e:Customer) REQUIRE (e.full_name) IS UNIQUE` has no effect.} {description: `CONSTRAINT constraint_eb58d84f FOR (e:Customer) REQUIRE (e.full_name) IS UNIQUE` already exists.} {position: None} for query: 'CREATE CONSTRAINT IF NOT EXISTS FOR (n:Customer) REQUIRE n.full_name IS UNIQUE'\n",
      "[2025-09-22 16:36:43,315] INFO Received notification from DBMS server: {severity: INFORMATION} {code: Neo.ClientNotification.Schema.IndexOrConstraintAlreadyExists} {category: SCHEMA} {title: `CREATE CONSTRAINT IF NOT EXISTS FOR (e:Dish) REQUIRE (e.name_of_food) IS UNIQUE` has no effect.} {description: `CONSTRAINT constraint_d759105d FOR (e:Dish) REQUIRE (e.name_of_food) IS UNIQUE` already exists.} {position: None} for query: 'CREATE CONSTRAINT IF NOT EXISTS FOR (n:Dish) REQUIRE n.name_of_food IS UNIQUE'\n",
      "[2025-09-22 16:36:43,321] INFO Received notification from DBMS server: {severity: INFORMATION} {code: Neo.ClientNotification.Schema.IndexOrConstraintAlreadyExists} {category: SCHEMA} {title: `CREATE CONSTRAINT IF NOT EXISTS FOR (e:Tag) REQUIRE (e.tag) IS UNIQUE` has no effect.} {description: `CONSTRAINT tag_name FOR (e:Tag) REQUIRE (e.tag) IS UNIQUE` already exists.} {position: None} for query: 'CREATE CONSTRAINT IF NOT EXISTS FOR (n:Tag) REQUIRE n.tag IS UNIQUE'\n",
      "[2025-09-22 16:36:43,325] INFO Received notification from DBMS server: {severity: INFORMATION} {code: Neo.ClientNotification.Schema.IndexOrConstraintAlreadyExists} {category: SCHEMA} {title: `CREATE CONSTRAINT IF NOT EXISTS FOR (e:TimeSlot) REQUIRE (e.slot) IS UNIQUE` has no effect.} {description: `CONSTRAINT constraint_ab1ca8b3 FOR (e:TimeSlot) REQUIRE (e.slot) IS UNIQUE` already exists.} {position: None} for query: 'CREATE CONSTRAINT IF NOT EXISTS FOR (n:TimeSlot) REQUIRE n.slot IS UNIQUE'\n",
      "[2025-09-22 16:36:43,330] INFO Received notification from DBMS server: {severity: INFORMATION} {code: Neo.ClientNotification.Schema.IndexOrConstraintAlreadyExists} {category: SCHEMA} {title: `CREATE CONSTRAINT IF NOT EXISTS FOR (e:DayOfWeek) REQUIRE (e.day) IS UNIQUE` has no effect.} {description: `CONSTRAINT constraint_558de255 FOR (e:DayOfWeek) REQUIRE (e.day) IS UNIQUE` already exists.} {position: None} for query: 'CREATE CONSTRAINT IF NOT EXISTS FOR (n:DayOfWeek) REQUIRE n.day IS UNIQUE'\n",
      "[2025-09-22 16:36:43,315] INFO Received notification from DBMS server: {severity: INFORMATION} {code: Neo.ClientNotification.Schema.IndexOrConstraintAlreadyExists} {category: SCHEMA} {title: `CREATE CONSTRAINT IF NOT EXISTS FOR (e:Dish) REQUIRE (e.name_of_food) IS UNIQUE` has no effect.} {description: `CONSTRAINT constraint_d759105d FOR (e:Dish) REQUIRE (e.name_of_food) IS UNIQUE` already exists.} {position: None} for query: 'CREATE CONSTRAINT IF NOT EXISTS FOR (n:Dish) REQUIRE n.name_of_food IS UNIQUE'\n",
      "[2025-09-22 16:36:43,321] INFO Received notification from DBMS server: {severity: INFORMATION} {code: Neo.ClientNotification.Schema.IndexOrConstraintAlreadyExists} {category: SCHEMA} {title: `CREATE CONSTRAINT IF NOT EXISTS FOR (e:Tag) REQUIRE (e.tag) IS UNIQUE` has no effect.} {description: `CONSTRAINT tag_name FOR (e:Tag) REQUIRE (e.tag) IS UNIQUE` already exists.} {position: None} for query: 'CREATE CONSTRAINT IF NOT EXISTS FOR (n:Tag) REQUIRE n.tag IS UNIQUE'\n",
      "[2025-09-22 16:36:43,325] INFO Received notification from DBMS server: {severity: INFORMATION} {code: Neo.ClientNotification.Schema.IndexOrConstraintAlreadyExists} {category: SCHEMA} {title: `CREATE CONSTRAINT IF NOT EXISTS FOR (e:TimeSlot) REQUIRE (e.slot) IS UNIQUE` has no effect.} {description: `CONSTRAINT constraint_ab1ca8b3 FOR (e:TimeSlot) REQUIRE (e.slot) IS UNIQUE` already exists.} {position: None} for query: 'CREATE CONSTRAINT IF NOT EXISTS FOR (n:TimeSlot) REQUIRE n.slot IS UNIQUE'\n",
      "[2025-09-22 16:36:43,330] INFO Received notification from DBMS server: {severity: INFORMATION} {code: Neo.ClientNotification.Schema.IndexOrConstraintAlreadyExists} {category: SCHEMA} {title: `CREATE CONSTRAINT IF NOT EXISTS FOR (e:DayOfWeek) REQUIRE (e.day) IS UNIQUE` has no effect.} {description: `CONSTRAINT constraint_558de255 FOR (e:DayOfWeek) REQUIRE (e.day) IS UNIQUE` already exists.} {position: None} for query: 'CREATE CONSTRAINT IF NOT EXISTS FOR (n:DayOfWeek) REQUIRE n.day IS UNIQUE'\n",
      "[2025-09-22 16:36:43,330] INFO Constraints ensured\n",
      "[2025-09-22 16:36:43,330] INFO Constraints ensured\n"
     ]
    }
   ],
   "source": [
    "# SECTION 12: Tạo Index/Constraint Bổ Sung Nếu Thiếu\n",
    "CONSTRAINTS = [\n",
    "    (\"Customer\", \"full_name\"),\n",
    "    (\"Dish\", \"name_of_food\"),\n",
    "    (\"Tag\", \"tag\"),\n",
    "    (\"TimeSlot\", \"slot\"),\n",
    "    (\"DayOfWeek\", \"day\")\n",
    "]\n",
    "\n",
    "def ensure_constraints():\n",
    "    with neo4j_session() as s:\n",
    "        existing = s.run(\"SHOW CONSTRAINTS\").data()\n",
    "        exist_desc = [e.get('name','') + str(e) for e in existing]\n",
    "        for label, prop in CONSTRAINTS:\n",
    "            cypher = f\"CREATE CONSTRAINT IF NOT EXISTS FOR (n:{label}) REQUIRE n.{prop} IS UNIQUE\" \\\n",
    "                     if label != 'Customer' else f\"CREATE CONSTRAINT IF NOT EXISTS FOR (n:{label}) REQUIRE n.{prop} IS UNIQUE\"\n",
    "            s.run(cypher)\n",
    "    logger.info(\"Constraints ensured\")\n",
    "\n",
    "ensure_constraints()"
   ]
  },
  {
   "cell_type": "code",
   "execution_count": 69,
   "id": "8a5f700d",
   "metadata": {},
   "outputs": [
    {
     "name": "stdout",
     "output_type": "stream",
     "text": [
      "Customer – Tag:\n",
      "<Record customer='Nguyễn Văn A' tag='Đồ béo'>\n",
      "<Record customer='Trần Thị B' tag='Nhạt'>\n",
      "Customer – TimeSlot:\n",
      "<Record c.full_name='Nguyễn Văn A' ts.slot='18:00-20:30'>\n",
      "Paths Customer -> Dish:\n",
      "<Record p=<Path start=<Node element_id='4:89bba9a9-db0f-40e3-9890-220ba4e29882:0' labels=frozenset({'Customer'}) properties={'full_name': 'Nguyễn Văn A', 'gender': 'male', 'phone': '0901111222', 'dob': neo4j.time.Date(1990, 5, 10), 'customer_id': 'C001', 'email': 'a@mail.com'}> end=<Node element_id='4:89bba9a9-db0f-40e3-9890-220ba4e29882:2' labels=frozenset({'Dish'}) properties={'dish_id': 'D001', 'serves_max': 3, 'type_of_food': 'MÓN KHAI VỊ', 'taste': 'Đồ béo', 'how_to_prepare': 'Đổ bột gạo, nước cốt dừa, chiên giòn', 'serves_min': 2, 'current_price': 145000, 'name_of_food': 'Bánh xèo', 'outstanding_fragrance': 'Thơm nước cốt dừa'}> size=2>>\n",
      "<Record p=<Path start=<Node element_id='4:89bba9a9-db0f-40e3-9890-220ba4e29882:0' labels=frozenset({'Customer'}) properties={'full_name': 'Nguyễn Văn A', 'gender': 'male', 'phone': '0901111222', 'dob': neo4j.time.Date(1990, 5, 10), 'customer_id': 'C001', 'email': 'a@mail.com'}> end=<Node element_id='4:89bba9a9-db0f-40e3-9890-220ba4e29882:2' labels=frozenset({'Dish'}) properties={'dish_id': 'D001', 'serves_max': 3, 'type_of_food': 'MÓN KHAI VỊ', 'taste': 'Đồ béo', 'how_to_prepare': 'Đổ bột gạo, nước cốt dừa, chiên giòn', 'serves_min': 2, 'current_price': 145000, 'name_of_food': 'Bánh xèo', 'outstanding_fragrance': 'Thơm nước cốt dừa'}> size=2>>\n",
      "<Record p=<Path start=<Node element_id='4:89bba9a9-db0f-40e3-9890-220ba4e29882:1' labels=frozenset({'Customer'}) properties={'full_name': 'Trần Thị B', 'gender': 'female', 'phone': '0903334444', 'dob': neo4j.time.Date(1985, 11, 20), 'customer_id': 'C002', 'email': 'b@mail.com'}> end=<Node element_id='4:89bba9a9-db0f-40e3-9890-220ba4e29882:3' labels=frozenset({'Dish'}) properties={'dish_id': 'D002', 'serves_max': 2, 'type_of_food': 'MÓN CHÍNH', 'taste': 'Nhạt', 'how_to_prepare': 'Gà luộc xé, cơm nấu nước luộc gà', 'serves_min': 1, 'current_price': 85000, 'name_of_food': 'Cơm gà Hội An', 'outstanding_fragrance': 'Thơm gà'}> size=2>>\n"
     ]
    }
   ],
   "source": [
    "# SECTION 13: Truy Vấn Kiểm Tra Nhanh\n",
    "with neo4j_session() as s:\n",
    "    print(\"Customer – Tag:\")\n",
    "    for r in s.run(\"MATCH (c:Customer)-[:FOLLOWS]->(t:Tag) RETURN c.full_name AS customer, t.tag AS tag LIMIT 10\"):\n",
    "        print(r)\n",
    "    print(\"Customer – TimeSlot:\")\n",
    "    for r in s.run(\"MATCH (c:Customer)-[:HABIT_AT]->(ts:TimeSlot) RETURN c.full_name, ts.slot\"):\n",
    "        print(r)\n",
    "    print(\"Paths Customer -> Dish:\")\n",
    "    for r in s.run(\"MATCH p=(c:Customer)-[*1..2]->(d:Dish) RETURN p LIMIT 5\"):\n",
    "        print(r)"
   ]
  },
  {
   "cell_type": "code",
   "execution_count": 70,
   "id": "576d08ed",
   "metadata": {},
   "outputs": [
    {
     "data": {
      "image/png": "[encoded data removed]",
      "text/plain": [
       "<Figure size 800x600 with 1 Axes>"
      ]
     },
     "metadata": {},
     "output_type": "display_data"
    }
   ],
   "source": [
    "# SECTION 14: Mini Visualization (networkx) - improved + bugfix for dict without .labels\n",
    "# Cải tiến:\n",
    "# - Nếu customer_name không tồn tại, fallback dùng Customer gần đây\n",
    "# - Nếu không có, hiển thị node/rel từ nodes_payload/rels_payload\n",
    "# - Trả về labels() trực tiếp trong Cypher để tránh dùng thuộc tính .labels gây AttributeError\n",
    "# - Hàm helper extract_ident để chọn thuộc tính hiển thị\n",
    "\n",
    "COLOR_MAP = {\n",
    "    'Customer': '#1f77b4',\n",
    "    'Dish': '#ff7f0e',\n",
    "    'Tag': '#2ca02c',\n",
    "    'TimeSlot': '#9467bd',\n",
    "    'DayOfWeek': '#8c564b'\n",
    "}\n",
    "\n",
    "DISPLAY_KEYS = (\"name_of_food\",\"tag\",\"slot\",\"day\",\"full_name\")\n",
    "\n",
    "from typing import Tuple\n",
    "\n",
    "def extract_ident(node_props: dict) -> Tuple[str,str]:\n",
    "    \"\"\"Return (label, value) best-effort. Caller already knows label externally.\n",
    "    We just pick a value from DISPLAY_KEYS or first property.\"\"\"\n",
    "    for k in DISPLAY_KEYS:\n",
    "        if k in node_props:\n",
    "            return k, node_props[k]\n",
    "    if node_props:\n",
    "        k,v = next(iter(node_props.items()))\n",
    "        return k,v\n",
    "    return 'id','UNK'\n",
    "\n",
    "active_customer = customer_name\n",
    "if not active_customer:\n",
    "    with neo4j_session() as s:\n",
    "        row = s.run(\"MATCH (c:Customer) RETURN c.full_name AS name ORDER BY c.full_name DESC LIMIT 1\").single()\n",
    "        if row:\n",
    "            active_customer = row[\"name\"]\n",
    "\n",
    "sub_nodes = []   # list[(label,value)]\n",
    "sub_edges = []   # list[((label,val),(label,val),rel_type)]\n",
    "query_run = None\n",
    "with neo4j_session() as s:\n",
    "    if active_customer:\n",
    "        query_run = \"Customer-centered\"\n",
    "        data = s.run(\n",
    "            \"\"\"\n",
    "            MATCH (c:Customer {full_name:$name})-[r]->(x)\n",
    "            RETURN c{.*} AS c_props, labels(c) AS c_labels, r, x{.*} AS x_props, labels(x) AS x_labels\n",
    "            UNION\n",
    "            MATCH (y)-[r2]->(c2:Customer {full_name:$name})\n",
    "            RETURN c2{.*} AS c_props, labels(c2) AS c_labels, r2 AS r, y{.*} AS x_props, labels(y) AS x_labels\n",
    "            \"\"\", name=active_customer\n",
    "        ).data()\n",
    "        for row in data:\n",
    "            c_props = row['c_props']; x_props = row['x_props']; rel = row['r']\n",
    "            c_label = row['c_labels'][0] if row['c_labels'] else 'Customer'\n",
    "            x_label = row['x_labels'][0] if row['x_labels'] else 'Unknown'\n",
    "            _, c_ident = extract_ident(c_props)\n",
    "            _, x_ident = extract_ident(x_props)\n",
    "            sub_nodes.append((c_label, c_ident))\n",
    "            sub_nodes.append((x_label, x_ident))\n",
    "            sub_edges.append(((c_label, c_ident),(x_label, x_ident), type(rel)))\n",
    "    else:\n",
    "        query_run = \"Payload-centered\"\n",
    "        for n in nodes_payload:\n",
    "            sub_nodes.append((n['label'], n['value']))\n",
    "        for r in rels_payload:\n",
    "            (sl, sk, sv) = r['start']\n",
    "            (el, ek, ev) = r['end']\n",
    "            sub_nodes.append((sl, sv))\n",
    "            sub_nodes.append((el, ev))\n",
    "            sub_edges.append(((sl, sv),(el, ev), r['type']))\n",
    "\n",
    "# Xây graph\n",
    "import networkx as nx\n",
    "import matplotlib.pyplot as plt\n",
    "G = nx.DiGraph()\n",
    "for lbl, val in set(sub_nodes):\n",
    "    G.add_node(f\"{lbl}:{val}\", label=lbl)\n",
    "for s_n, e_n, rel in sub_edges:\n",
    "    s_key = f\"{s_n[0]}:{s_n[1]}\"; e_key = f\"{e_n[0]}:{e_n[1]}\"\n",
    "    G.add_edge(s_key, e_key, rel=rel)\n",
    "\n",
    "plt.figure(figsize=(8,6))\n",
    "if len(G) == 0:\n",
    "    plt.text(0.5,0.5,\"Không có dữ liệu để hiển thị\", ha='center', va='center', fontsize=14)\n",
    "    plt.axis('off')\n",
    "else:\n",
    "    pos = nx.spring_layout(G, seed=42, k=0.8)\n",
    "    for lbl in COLOR_MAP:\n",
    "        nodes_lbl = [n for n,d in G.nodes(data=True) if d['label']==lbl]\n",
    "        if nodes_lbl:\n",
    "            nx.draw_networkx_nodes(G, pos, nodelist=nodes_lbl, node_color=COLOR_MAP[lbl], node_size=900)\n",
    "    nx.draw_networkx_labels(G, pos, font_size=8)\n",
    "    nx.draw_networkx_edges(G, pos, arrows=True, arrowstyle='-|>', width=1.4)\n",
    "    edge_labels = nx.get_edge_attributes(G, 'rel')\n",
    "    nx.draw_networkx_edge_labels(G, pos, edge_labels=edge_labels, font_size=7)\n",
    "    plt.axis('off')\n",
    "plt.title(f'Subgraph mode: {query_run}')\n",
    "plt.show()"
   ]
  },
  {
   "cell_type": "code",
   "execution_count": 71,
   "id": "3f6d09ac",
   "metadata": {},
   "outputs": [
    {
     "name": "stderr",
     "output_type": "stream",
     "text": [
      "[2025-09-22 16:36:43,474] INFO Sample raw NER span[0]: ('Khách hàng', 'N', 'B-NP', 'O')\n",
      "[2025-09-22 16:36:43,486] INFO Write complete (approx): nodes_created=0 rels_created=0\n",
      "[2025-09-22 16:36:43,486] INFO Write complete (approx): nodes_created=0 rels_created=0\n"
     ]
    },
    {
     "data": {
      "text/plain": [
       "{'customer': None,\n",
       " 'nodes_detected': 3,\n",
       " 'nodes_written': 0,\n",
       " 'rels_written': 0,\n",
       " 'elapsed_sec': 0.018}"
      ]
     },
     "execution_count": 71,
     "metadata": {},
     "output_type": "execute_result"
    }
   ],
   "source": [
    "# SECTION 15: Hàm Pipeline Tổng Hợp\n",
    "\n",
    "def run_once(text: str):\n",
    "    t0 = time.time()\n",
    "    sents = split_sentences(text)\n",
    "    ents = run_ner(sents)\n",
    "    lower = text.lower()\n",
    "    dishes = [d for d in DOMAIN_DISHES if d in lower]\n",
    "    tags = [t for t in DOMAIN_TAGS if t in lower]\n",
    "    slots = TIME_SLOT_PATTERN.findall(text)\n",
    "    days = [DAY_MAP[k] for k in DAY_MAP if k in lower]\n",
    "    # reuse normalization logic\n",
    "    cust = None\n",
    "    for e in ents:\n",
    "        if e['label'] == 'PER' and len(e['text'].split()) >= 2:\n",
    "            cust = normalize_entity(e['text']); break\n",
    "    nodes_tmp = []\n",
    "    if cust:\n",
    "        nodes_tmp.append({'label': 'Customer', 'key': 'full_name', 'value': cust})\n",
    "    for d in dishes:\n",
    "        nodes_tmp.append({'label': 'Dish', 'key': 'name_of_food', 'value': normalize_entity(d)})\n",
    "    for t in tags:\n",
    "        nodes_tmp.append({'label': 'Tag', 'key': 'tag', 'value': normalize_entity(t)})\n",
    "    for s in slots:\n",
    "        nodes_tmp.append({'label': 'TimeSlot', 'key': 'slot', 'value': s})\n",
    "    for d_ in days:\n",
    "        nodes_tmp.append({'label': 'DayOfWeek', 'key': 'day', 'value': d_})\n",
    "    rels_tmp = []\n",
    "    if cust:\n",
    "        for t in tags:\n",
    "            rels_tmp.append({'start': ('Customer','full_name',cust), 'type': 'FOLLOWS', 'end': ('Tag','tag', normalize_entity(t)), 'props': {}})\n",
    "        for d in dishes:\n",
    "            rels_tmp.append({'start': ('Customer','full_name',cust), 'type': 'PREFERS_DISH', 'end': ('Dish','name_of_food', normalize_entity(d)), 'props': {}})\n",
    "        for s in slots:\n",
    "            rels_tmp.append({'start': ('Customer','full_name',cust), 'type': 'HABIT_AT', 'end': ('TimeSlot','slot', s), 'props': {}})\n",
    "        for d_ in days:\n",
    "            rels_tmp.append({'start': ('Customer','full_name',cust), 'type': 'HABIT_ON', 'end': ('DayOfWeek','day', d_), 'props': {}})\n",
    "    nodes_p, rels_p = build_payload(nodes_tmp, rels_tmp)\n",
    "    stats = write_graph(nodes_p, rels_p)\n",
    "    dt = time.time() - t0\n",
    "    return {\n",
    "        'customer': cust,\n",
    "        'nodes_detected': len(nodes_tmp),\n",
    "        'nodes_written': stats.get('nodes_written'),\n",
    "        'rels_written': stats.get('rels_written'),\n",
    "        'elapsed_sec': round(dt, 3)\n",
    "    }\n",
    "\n",
    "run_once(raw_text)"
   ]
  },
  {
   "cell_type": "code",
   "execution_count": 72,
   "id": "3de23c9d",
   "metadata": {},
   "outputs": [
    {
     "name": "stderr",
     "output_type": "stream",
     "text": [
      "[2025-09-22 16:36:43,497] INFO Sample raw NER span[0]: ('Khách hàng', 'N', 'B-NP', 'O')\n",
      "[2025-09-22 16:36:43,501] INFO Write complete (approx): nodes_created=0 rels_created=0\n",
      "[2025-09-22 16:36:43,501] INFO Write complete (approx): nodes_created=0 rels_created=0\n"
     ]
    },
    {
     "name": "stdout",
     "output_type": "stream",
     "text": [
      "{'customer': None, 'nodes_detected': 2, 'nodes_written': 0, 'rels_written': 0, 'elapsed_sec': 0.008}\n"
     ]
    }
   ],
   "source": [
    "# SECTION 16: Test Pipeline Với Đoạn Text Khác\n",
    "text2 = \"Khách hàng Nguyễn Văn A đôi khi chọn món khô và vẫn thích Bánh xèo vào tối Thứ Hai.\"\n",
    "res2 = run_once(text2)\n",
    "print(res2)"
   ]
  },
  {
   "cell_type": "code",
   "execution_count": 73,
   "id": "c6b43c7f",
   "metadata": {},
   "outputs": [
    {
     "name": "stderr",
     "output_type": "stream",
     "text": [
      "[2025-09-22 16:36:43,510] INFO Sample raw NER span[0]: ('Khách hàng', 'N', 'B-NP', 'O')\n",
      "[2025-09-22 16:36:43,514] INFO Write complete (approx): nodes_created=0 rels_created=0\n",
      "[2025-09-22 16:36:43,514] INFO debug_pipeline took 0.007s\n",
      "[2025-09-22 16:36:43,514] INFO Write complete (approx): nodes_created=0 rels_created=0\n",
      "[2025-09-22 16:36:43,514] INFO debug_pipeline took 0.007s\n"
     ]
    },
    {
     "data": {
      "text/plain": [
       "{'customer': None,\n",
       " 'nodes_detected': 2,\n",
       " 'nodes_written': 0,\n",
       " 'rels_written': 0,\n",
       " 'elapsed_sec': 0.007}"
      ]
     },
     "execution_count": 73,
     "metadata": {},
     "output_type": "execute_result"
    }
   ],
   "source": [
    "# SECTION 17: Log & Debug (decorator + timing)\n",
    "from functools import wraps\n",
    "\n",
    "def timed(fn):\n",
    "    @wraps(fn)\n",
    "    def wrapper(*args, **kwargs):\n",
    "        start = time.time()\n",
    "        try:\n",
    "            return fn(*args, **kwargs)\n",
    "        finally:\n",
    "            logger.info(f\"{fn.__name__} took {round(time.time()-start,3)}s\")\n",
    "    return wrapper\n",
    "\n",
    "@timed\n",
    "def debug_pipeline(text):\n",
    "    return run_once(text)\n",
    "\n",
    "debug_pipeline(\"Khách hàng Nguyễn Văn A thích Đồ béo và Bánh xèo.\")"
   ]
  }
 ],
 "metadata": {
  "kernelspec": {
   "display_name": ".venv",
   "language": "python",
   "name": "python3"
  },
  "language_info": {
   "codemirror_mode": {
    "name": "ipython",
    "version": 3
   },
   "file_extension": ".py",
   "mimetype": "text/x-python",
   "name": "python",
   "nbconvert_exporter": "python",
   "pygments_lexer": "ipython3",
   "version": "3.11.9"
  }
 },
 "nbformat": 4,
 "nbformat_minor": 5
}
