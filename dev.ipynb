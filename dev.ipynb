{
 "cells": [
  {
   "cell_type": "code",
   "execution_count": 4,
   "metadata": {},
   "outputs": [
    {
     "data": {
      "text/plain": [
       "[Document(metadata={'id': '5b9657ddffcdc8b0c9f23f78de53d319', 'source': 'src/data/hoanghamobile_with_summary.csv', '_id': '666baeb69793e149fe739410'}, page_content=\"Tên sản phẩm: điện thoại iphone 15 pro (128gb) - chính hãng vn/a | Khuyến mãi: - KM 1<br>- Giảm thêm 100.000đ khi khách hàng thanh toán bằng hình thức chuyển khoản ngân hàng khi mua iPhone 15 Series.<br>- KM 2<br>- Ưu đãi trả góp 0% qua thẻ tín dụng<br> | Thông số kỹ thuật: Công nghệ màn hình:\\r\\nMàn hình Super Retina XDR, Tấm nền OLED, Dynamic Island, Công nghệ ProMotion với tốc độ làm mới thích ứng lên đến 120Hz, Màn hình Luôn Bật, Màn hình HDR, Tỷ lệ tương phản 2.000.000:1 , Màn hình True Tone, Màn hình có dải màu rộng (P3), Haptic Touch<br> Độ phân giải:\\r\\n1179 x 2556, Chính: 48MP, khẩu độ ƒ/1.78, Ultra Wide: 12MP, khẩu độ ƒ/2.2, Telephoto: 12MP, khẩu độ ƒ/2.8, Camera trước TrueDepth 12MP, khẩu độ ƒ/1.9<br> Kích thước màn hình:\\r\\n6.1 inch<br> Hệ điều hành:\\r\\niOS 17<br> Vi xử lý:\\r\\nA17 Pro<br> Bộ nhớ trong:\\r\\n128GB<br> RAM:\\r\\n8GB<br> Mạng di động:\\r\\n2G, 3G, 4G, 5G<br> Số khe SIM:\\r\\nSIM kép (nano SIM và eSIM), Hỗ trợ hai eSIM<br> | Giá hiện tại: 24,690,000 ₫ | Tuỳ chọn màu sắc: ['Titan Xanh', 'Titan Tự Nhiên', 'Titan Trắng', 'Titan Đen']\"),\n",
       " Document(metadata={'id': 'caa165fbb5d3a58bbd454617d7bd6378', 'source': 'src/data/hoanghamobile_with_summary.csv', '_id': '666baeb69793e149fe739413'}, page_content=\"Tên sản phẩm: điện thoại iphone 15 (128gb) - chính hãng vn/a | Khuyến mãi: - KM 1<br>- Giảm thêm 100.000đ khi khách hàng thanh toán bằng hình thức chuyển khoản ngân hàng khi mua iPhone 15 Series.<br>- KM 2<br>- Ưu đãi trả góp 0% qua thẻ tín dụng<br> | Thông số kỹ thuật: Công nghệ màn hình:\\r\\nMàn hình Super Retina XDR, Tấm nền OLED, Dynamic Island, Màn hình HDR, Tỷ lệ tương phản 2.000.000:1 , Màn hình có dải màu rộng (P3), Haptic Touch<br> Độ phân giải:\\r\\n1179 x 2556, Chính: 48MP, khẩu độ ƒ/1.6, Ultra Wide: 12MP, khẩu độ ƒ/2.4, Camera trước TrueDepth 12MP, khẩu độ ƒ/1.9<br> Kích thước màn hình:\\r\\n6.1 inch<br> Hệ điều hành:\\r\\niOS 17<br> Vi xử lý:\\r\\nA16 Bionic<br> Bộ nhớ trong:\\r\\n128GB<br> RAM:\\r\\n6GB<br> Mạng di động:\\r\\n2G, 3G, 4G, 5G<br> Số khe SIM:\\r\\nSIM kép (nano-SIM và eSIM), Hỗ trợ hai eSIM<br> | Giá hiện tại: 18,790,000 ₫ | Tuỳ chọn màu sắc: ['Xanh Lá', 'Xanh Dương', 'Màu Đen', 'Hồng', 'Màu Vàng']\"),\n",
       " Document(metadata={'id': '20fd753a1cf28ea9edb6834e835abf7e', 'source': 'src/data/hoanghamobile_with_summary.csv', '_id': '666baeb69793e149fe739412'}, page_content=\"Tên sản phẩm: điện thoại iphone 15 plus (128gb) - chính hãng vn/a | Khuyến mãi: - KM 1<br>- Giảm thêm 100.000đ khi khách hàng thanh toán bằng hình thức chuyển khoản ngân hàng khi mua iPhone 15 Series.<br>- KM 2<br>- Ưu đãi trả góp 0% qua thẻ tín dụng<br> | Thông số kỹ thuật: Công nghệ màn hình:\\r\\nMàn hình Super Retina XDR, Tấm nền OLED, Dynamic Island, Màn hình HDR, Tỷ lệ tương phản 2.000.000:1 , Màn hình có dải màu rộng (P3), Haptic Touch<br> Độ phân giải:\\r\\n1290 x 2796, Chính: 48MP, khẩu độ ƒ/1.6, Ultra Wide: 12MP, khẩu độ ƒ/2.4, Camera trước TrueDepth 12MP, khẩu độ ƒ/1.9<br> Kích thước màn hình:\\r\\n6.7 inch<br> Hệ điều hành:\\r\\niOS 17<br> Vi xử lý:\\r\\nA16 Bionic<br> Bộ nhớ trong:\\r\\n128GB<br> RAM:\\r\\n6GB<br> Mạng di động:\\r\\n2G, 3G, 4G, 5G<br> Số khe SIM:\\r\\nSIM kép (nano-SIM và eSIM), Hỗ trợ hai eSIM<br> | Giá hiện tại: 21,890,000 ₫ | Tuỳ chọn màu sắc: ['Hồng', 'Xanh Lá', 'Xanh Dương', 'Màu Vàng', 'Màu Đen']\"),\n",
       " Document(metadata={'id': 'ce30cab1a93d2ee0c09f931a98a29e09', 'source': 'src/data/hoanghamobile_with_summary.csv', '_id': '666baeb99793e149fe7394ec'}, page_content=\"Tên sản phẩm: điện thoại iphone 11 (128gb) - chính hãng vn/a | Khuyến mãi: - KM 1<br>- Ưu đãi trả góp 0% qua thẻ tín dụng<br> | Thông số kỹ thuật: Công nghệ màn hình:\\r\\nIPS LCD<br> Độ phân giải:\\r\\n828 x 1792 Pixels, 2 camera 12 MP, 12 MP<br> Kích thước màn hình:\\r\\n6.1 inch<br> Hệ điều hành:\\r\\niOS 15<br> Vi xử lý:\\r\\nApple A13 Bionic 6 nhân<br> Bộ nhớ trong:\\r\\n128 GB<br> RAM:\\r\\n4GB<br> Mạng di động:\\r\\nHỗ trợ 4G<br> Số khe SIM:\\r\\n1 Nano SIM & 1 eSIM<br> Dung lượng pin:\\r\\n3110 mAh<br> | Giá hiện tại: 9,790,000 ₫ | Tuỳ chọn màu sắc: ['White', 'Black', 'Red', 'Green', 'Purple']\"),\n",
       " Document(metadata={'id': '8e2ec278d28fe724e98cf52df558f411', 'source': 'src/data/hoanghamobile_with_summary.csv', '_id': '666baeb89793e149fe7394a8'}, page_content=\"Tên sản phẩm: điện thoại iphone 13 (128gb) - chính hãng vn/a | Khuyến mãi: - KM 1<br>- Ưu đãi trả góp 0% qua thẻ tín dụng<br> | Thông số kỹ thuật: Công nghệ màn hình:\\r\\nOLED<br> Độ phân giải:\\r\\n1170 x 2532 Pixels, 2 camera 12 MP, 12 MP<br> Hệ điều hành:\\r\\niOS 15<br> Vi xử lý:\\r\\nApple A15<br> Bộ nhớ trong:\\r\\n128 GB<br> RAM:\\r\\n4GB<br> Mạng di động:\\r\\nHỗ trợ 5G<br> Số khe SIM:\\r\\n1 Nano SIM & 1 eSIM<br> | Giá hiện tại: 13,190,000 ₫ | Tuỳ chọn màu sắc: ['Green', 'Red', 'Midnight', 'Pink', 'Blue', 'Starlight']\"),\n",
       " Document(metadata={'id': '07ddadd4527d2a7c4727b061461159d3', 'source': 'src/data/hoanghamobile_with_summary.csv', '_id': '666baeb89793e149fe739478'}, page_content=\"Tên sản phẩm: điện thoại iphone 14 plus (128gb) - chính hãng vn/a | Khuyến mãi: - KM 1<br>- Ưu đãi trả góp 0% qua thẻ tín dụng<br> | Thông số kỹ thuật: Công nghệ màn hình:\\r\\nOLED<br> Độ phân giải:\\r\\nSuper Retina XDR (1284 x 2778 Pixels), 2 camera 12 MP, 12 MP<br> Kích thước màn hình:\\r\\n6.7 inch<br> Hệ điều hành:\\r\\niOS 16<br> Vi xử lý:\\r\\nApple A15<br> Bộ nhớ trong:\\r\\n128 GB<br> RAM:\\r\\n6GB<br> Mạng di động:\\r\\nHỗ trợ 5G<br> Số khe SIM:\\r\\n1 Nano SIM & 1 eSIM<br> Dung lượng pin:\\r\\n4325 mAh<br> | Giá hiện tại: 18,990,000 ₫ | Tuỳ chọn màu sắc: ['Blue', 'Starlight', 'Midnight', 'Red', 'Yellow', 'Purple']\"),\n",
       " Document(metadata={'id': '69725a7d508910dbbbd8a13a8c9d69b5', 'source': 'src/data/hoanghamobile_with_summary.csv', '_id': '666baeb59793e149fe7393f9'}, page_content=\"Tên sản phẩm: samsung galaxy a15 - 8gb/128gb - chính hãng | Khuyến mãi: - KM 1<br>- Giảm thêm 300.000đ<br> | Thông số kỹ thuật: Công nghệ màn hình:\\r\\nSuper AMOLED, 19.5:9, 90Hz<br> Độ phân giải:\\r\\nFHD+ (1080x2400), Chính: 50MP, F1.8 / AF, Phụ: 5MP, F2.2 x 2MP, F2.4, 13MP, F2.0<br> Kích thước màn hình:\\r\\n6.5 inch<br> Hệ điều hành:\\r\\nOne UI 6.0<br> Vi xử lý:\\r\\nMediaTek Helio G99, 6nm<br> Bộ nhớ trong:\\r\\n128 GB<br> RAM:\\r\\n8GB<br> Mạng di động:\\r\\n4G<br> Số khe SIM:\\r\\n2 Nano SIM<br> Dung lượng pin:\\r\\n5000 mAh<br> | Giá hiện tại: 4,490,000 ₫ | Tuỳ chọn màu sắc: ['Xanh', 'Màu Vàng', 'Màu Đen']\"),\n",
       " Document(metadata={'id': 'a5cce74fa47b87b26ae33d6669c152d3', 'source': 'src/data/hoanghamobile_with_summary.csv', '_id': '666baeb69793e149fe739409'}, page_content=\"Tên sản phẩm: điện thoại iphone 15 (512gb) - chính hãng vn/a | Khuyến mãi: - KM 1<br>- Giảm thêm 100.000đ khi khách hàng thanh toán bằng hình thức chuyển khoản ngân hàng khi mua iPhone 15 Series.<br>- KM 2<br>- Ưu đãi trả góp 0% qua thẻ tín dụng<br> | Thông số kỹ thuật: Công nghệ màn hình:\\r\\nMàn hình Super Retina XDR, Tấm nền OLED, Dynamic Island, Màn hình HDR, Tỷ lệ tương phản 2.000.000:1 , Màn hình có dải màu rộng (P3), Haptic Touch<br> Độ phân giải:\\r\\n1179 x 2556, Chính: 48MP, khẩu độ ƒ/1.6, Ultra Wide: 12MP, khẩu độ ƒ/2.4, Camera trước TrueDepth 12MP, khẩu độ ƒ/1.9<br> Kích thước màn hình:\\r\\n6.1 inch<br> Hệ điều hành:\\r\\niOS 17<br> Vi xử lý:\\r\\nA16 Bionic<br> Bộ nhớ trong:\\r\\n512GB<br> RAM:\\r\\n6GB<br> Mạng di động:\\r\\n2G, 3G, 4G, 5G<br> Số khe SIM:\\r\\nSIM kép (nano-SIM và eSIM), Hỗ trợ hai eSIM<br> | Giá hiện tại: 27,990,000 ₫ | Tuỳ chọn màu sắc: ['Xanh Lá', 'Màu Vàng', 'Màu Đen', 'Hồng', 'Xanh Dương']\"),\n",
       " Document(metadata={'id': 'd72e52ea7bb4d896f042555b60f4a693', 'source': 'src/data/hoanghamobile_with_summary.csv', '_id': '666baeb79793e149fe739444'}, page_content=\"Tên sản phẩm: điện thoại di động masstel izi 15 - chính hãng | Khuyến mãi: - Giảm 5% không giới hạn khuyến mãi qua Homepaylater<br>- Giảm 50% tối đa 700k khi mở thẻ tín dụng Vpbank trên SenID<br>- Giảm 20% tối đa 500k khi mở thẻ tín dụng TPBank EVO<br>- Giảm 1% tối đa 100.000đ  khi thanh toán qua Zalopay<br> | Thông số kỹ thuật: Công nghệ màn hình:\\r\\nQQVGA, Màu màn hình: 262K<br> Độ phân giải:\\r\\n128*160<br> Kích thước màn hình:\\r\\n1.77  inch<br> Vi xử lý:\\r\\nT107 (UMS9117)<br> Bộ nhớ trong:\\r\\n128MB<br> Mạng di động:\\r\\nGSM 900/1800MHz, WCDMA: 900/2100 MHz, 4G-LTE: B1/ 3/ 7/ 8/20<br> Số khe SIM:\\r\\n2 nano SIM<br> Dung lượng pin:\\r\\n1000 mAh<br> | Giá hiện tại: 450,000 ₫ | Tuỳ chọn màu sắc: ['Màu Đen', 'Xanh', 'Đỏ Đen']\"),\n",
       " Document(metadata={'id': '0ca9f433208de3dd2064a323951e347d', 'source': 'src/data/hoanghamobile_with_summary.csv', '_id': '666baeb89793e149fe739479'}, page_content=\"Tên sản phẩm: điện thoại iphone 14 (128gb) - chính hãng vn/a | Khuyến mãi: - KM 1<br>- Ưu đãi mua combo 3 món củ sạc + dán màn hình + ốp lưng Mophie Zagg chỉ 985.000đ<br>- KM 2<br>- Ưu đãi trả góp 0% qua thẻ tín dụng<br> | Thông số kỹ thuật: Công nghệ màn hình:\\r\\nSuper Retina XDR<br> Độ phân giải:\\r\\n2532 x 1170, 12MP x 12MP, 12MP<br> Kích thước màn hình:\\r\\n6.1 inch<br> Hệ điều hành:\\r\\niOS 16<br> Vi xử lý:\\r\\nA15 Bionic<br> Bộ nhớ trong:\\r\\n128GB<br> RAM:\\r\\n6GB<br> Mạng di động:\\r\\n5G (sub ‑ 6 GHz và mmWave) với 4x4 MIMO8, Gigabit LTE với 4x4 MIMO và LAA8, Chip băng thông siêu rộng cho nhận thức về không gian, NFC với chế độ đọc, Thẻ Express có dự trữ năng lượng<br> Số khe SIM:\\r\\n1 eSIM, 1 SIM vật lý<br> | Giá hiện tại: 16,290,000 ₫ | Tuỳ chọn màu sắc: ['Midnight', 'Blue', 'Purple', 'Red', 'Yellow', 'Starlight']\"),\n",
       " Document(metadata={'id': 'e5f18ee49174902048dd8ec41eb5d9ea', 'source': 'src/data/hoanghamobile_with_summary.csv', '_id': '666baeb69793e149fe73940a'}, page_content=\"Tên sản phẩm: điện thoại iphone 15 (256gb) - chính hãng vn/a | Khuyến mãi: - KM 1<br>- Giảm thêm 100.000đ khi khách hàng thanh toán bằng hình thức chuyển khoản ngân hàng khi mua iPhone 15 Series.<br>- KM 2<br>- Ưu đãi trả góp 0% qua thẻ tín dụng<br> | Thông số kỹ thuật: Công nghệ màn hình:\\r\\nMàn hình Super Retina XDR, Tấm nền OLED, Dynamic Island, Màn hình HDR, Tỷ lệ tương phản 2.000.000:1 , Màn hình có dải màu rộng (P3), Haptic Touch<br> Độ phân giải:\\r\\n1179 x 2556, Chính: 48MP, khẩu độ ƒ/1.6, Ultra Wide: 12MP, khẩu độ ƒ/2.4, Camera trước TrueDepth 12MP, khẩu độ ƒ/1.9<br> Kích thước màn hình:\\r\\n6.1 inch<br> Hệ điều hành:\\r\\niOS 17<br> Vi xử lý:\\r\\nA16 Bionic<br> Bộ nhớ trong:\\r\\n256GB<br> RAM:\\r\\n6GB<br> Mạng di động:\\r\\n2G, 3G, 4G, 5G<br> Số khe SIM:\\r\\nSIM kép (nano-SIM và eSIM), Hỗ trợ hai eSIM<br> | Giá hiện tại: 22,290,000 ₫ | Tuỳ chọn màu sắc: ['Xanh Dương', 'Màu Vàng', 'Màu Đen', 'Xanh Lá', 'Hồng']\"),\n",
       " Document(metadata={'id': '7cb34056a13f6eb7f5490565b5252fc2', 'source': 'src/data/hoanghamobile_with_summary.csv', '_id': '666baeb69793e149fe739407'}, page_content=\"Tên sản phẩm: điện thoại iphone 15 plus (512gb) - chính hãng vn/a | Khuyến mãi: - KM 1<br>- Giảm thêm 100.000đ khi khách hàng thanh toán bằng hình thức chuyển khoản ngân hàng khi mua iPhone 15 Series.<br>- KM 2<br>- Ưu đãi trả góp 0% qua thẻ tín dụng<br> | Thông số kỹ thuật: Công nghệ màn hình:\\r\\nMàn hình Super Retina XDR, Tấm nền OLED, Dynamic Island, Màn hình HDR, Tỷ lệ tương phản 2.000.000:1 , Màn hình có dải màu rộng (P3), Haptic Touch<br> Độ phân giải:\\r\\n1290 x 2796, Chính: 48MP, khẩu độ ƒ/1.6, Ultra Wide: 12MP, khẩu độ ƒ/2.4, Camera trước TrueDepth 12MP, khẩu độ ƒ/1.9<br> Kích thước màn hình:\\r\\n6.7 inch<br> Hệ điều hành:\\r\\niOS 17<br> Vi xử lý:\\r\\nA16 Bionic<br> Bộ nhớ trong:\\r\\n512GB<br> RAM:\\r\\n6GB<br> Mạng di động:\\r\\n2G, 3G, 4G, 5G<br> Số khe SIM:\\r\\nSIM kép (nano-SIM và eSIM), Hỗ trợ hai eSIM<br> | Giá hiện tại: 30,890,000 ₫ | Tuỳ chọn màu sắc: ['Màu Đen', 'Màu Vàng', 'Xanh Lá', 'Hồng', 'Xanh Dương']\"),\n",
       " Document(metadata={'id': '372e5c72ac16bf230cd9e1c2cad2c3e6', 'source': 'src/data/hoanghamobile_with_summary.csv', '_id': '666baeb69793e149fe73940d'}, page_content=\"Tên sản phẩm: điện thoại iphone 15 pro (256gb) - chính hãng vn/a | Khuyến mãi: - KM 1<br>- Giảm thêm 100.000đ khi khách hàng thanh toán bằng hình thức chuyển khoản ngân hàng khi mua iPhone 15 Series.<br>- KM 2<br>- Ưu đãi trả góp 0% qua thẻ tín dụng<br> | Thông số kỹ thuật: Công nghệ màn hình:\\r\\nMàn hình Super Retina XDR, Tấm nền OLED, Dynamic Island, Công nghệ ProMotion với tốc độ làm mới thích ứng lên đến 120Hz, Màn hình Luôn Bật, Màn hình HDR, Tỷ lệ tương phản 2.000.000:1 , Màn hình True Tone, Màn hình có dải màu rộng (P3), Haptic Touch<br> Độ phân giải:\\r\\n1179 x 2556, Chính: 48MP, khẩu độ ƒ/1.78, Ultra Wide: 12MP, khẩu độ ƒ/2.2, Telephoto: 12MP, khẩu độ ƒ/2.8, Camera trước TrueDepth 12MP, khẩu độ ƒ/1.9<br> Kích thước màn hình:\\r\\n6.1 inch<br> Hệ điều hành:\\r\\niOS 17<br> Vi xử lý:\\r\\nA17 Pro<br> Bộ nhớ trong:\\r\\n256GB<br> RAM:\\r\\n8GB<br> Mạng di động:\\r\\n2G, 3G, 4G, 5G<br> Số khe SIM:\\r\\nSIM kép (nano SIM và eSIM), Hỗ trợ hai eSIM<br> | Giá hiện tại: 27,490,000 ₫ | Tuỳ chọn màu sắc: ['Titan Tự Nhiên', 'Titan Trắng', 'Titan Xanh', 'Titan Đen']\"),\n",
       " Document(metadata={'id': 'f8637db171db95ddecbacf1cbed940a2', 'source': 'src/data/hoanghamobile_with_summary.csv', '_id': '666baeb89793e149fe739477', 'row': 191}, page_content=\"\\ntext: Tên sản phẩm: điện thoại iphone 14 plus (256gb) - chính hãng vn/a | Khuyến mãi: - KM 1<br>- Ưu đãi trả góp 0% qua thẻ tín dụng<br> | Thông số kỹ thuật: Công nghệ màn hình:\\r\\nOLED<br> Độ phân giải:\\r\\nSuper Retina XDR (1284 x 2778 Pixels), 2 camera 12 MP, 12 MP<br> Kích thước màn hình:\\r\\n6.7 inch<br> Hệ điều hành:\\r\\niOS 16<br> Vi xử lý:\\r\\nApple A15<br> Bộ nhớ trong:\\r\\n256 GB<br> RAM:\\r\\n6GB<br> Mạng di động:\\r\\nHỗ trợ 5G<br> Số khe SIM:\\r\\n1 Nano SIM & 1 eSIM<br> Dung lượng pin:\\r\\n4325 mAh<br> | Giá hiện tại: 21,990,000 ₫ | Tuỳ chọn màu sắc: ['Blue', 'Red', 'Purple', 'Starlight', 'Midnight']\"),\n",
       " Document(metadata={'id': 'c1d85ac0e1d6550c29446e0d27f4db9f', 'source': 'src/data/hoanghamobile_with_summary.csv', '_id': '666baeb69793e149fe739408'}, page_content=\"Tên sản phẩm: điện thoại iphone 15 plus (256gb) - chính hãng vn/a | Khuyến mãi: - KM 1<br>- Giảm thêm 100.000đ khi khách hàng thanh toán bằng hình thức chuyển khoản ngân hàng khi mua iPhone 15 Series.<br>- KM 2<br>- Ưu đãi trả góp 0% qua thẻ tín dụng<br> | Thông số kỹ thuật: Công nghệ màn hình:\\r\\nMàn hình Super Retina XDR, Tấm nền OLED, Dynamic Island, Màn hình HDR, Tỷ lệ tương phản 2.000.000:1 , Màn hình có dải màu rộng (P3), Haptic Touch<br> Độ phân giải:\\r\\n1290 x 2796, Chính: 48MP, khẩu độ ƒ/1.6, Ultra Wide: 12MP, khẩu độ ƒ/2.4, Camera trước TrueDepth 12MP, khẩu độ ƒ/1.9<br> Kích thước màn hình:\\r\\n6.7 inch<br> Hệ điều hành:\\r\\niOS 17<br> Vi xử lý:\\r\\nA16 Bionic<br> Bộ nhớ trong:\\r\\n256GB<br> RAM:\\r\\n6GB<br> Mạng di động:\\r\\n2G, 3G, 4G, 5G<br> Số khe SIM:\\r\\nSIM kép (nano-SIM và eSIM), Hỗ trợ hai eSIM<br> | Giá hiện tại: 24,390,000 ₫ | Tuỳ chọn màu sắc: ['Hồng', 'Xanh Lá', 'Màu Đen', 'Màu Vàng', 'Xanh Dương']\"),\n",
       " Document(metadata={'id': 'bdc9ef7370a8e57873f9fbfa4b888fed', 'source': 'src/data/hoanghamobile_with_summary.csv', '_id': '666baeb99793e149fe7394ef'}, page_content='Tên sản phẩm: điện thoại xiaomi redmi note 9 pro - 6gb/128gb - chính hãng dgw | Thông số kỹ thuật: Công nghệ màn hình:\\r\\nIPS LCD<br> Độ phân giải:\\r\\nFull HD+ (1080 x 2400 Pixels), Chính 64 MP & Phụ 8 MP, 5 MP, 2 MP, 16 MP<br> Kích thước màn hình:\\r\\n6.67 inch<br> Hệ điều hành:\\r\\nAndroid 10<br> Vi xử lý:\\r\\nSnapdragon 720G 8 nhân<br> Bộ nhớ trong:\\r\\n128 GB<br> RAM:\\r\\n6GB<br> Mạng di động:\\r\\nHỗ trợ 4G<br> Số khe SIM:\\r\\n2 Nano SIM<br> Dung lượng pin:\\r\\n5020 mAh<br> | Tuỳ chọn màu sắc: []'),\n",
       " Document(metadata={'id': 'a26caadf6240c4bd714ca26c79d6f22c', 'source': 'src/data/hoanghamobile_with_summary.csv', '_id': '666baeb69793e149fe739411'}, page_content=\"Tên sản phẩm: điện thoại iphone 15 pro max (256gb) - chính hãng vn/a | Khuyến mãi: - KM 1<br>- Giảm thêm 100.000đ khi khách hàng thanh toán bằng hình thức chuyển khoản ngân hàng khi mua iPhone 15 Series.<br>- KM 2<br>- Ưu đãi trả góp 0% qua thẻ tín dụng<br> | Thông số kỹ thuật: Công nghệ màn hình:\\r\\nMàn hình Super Retina XDR, Tấm nền OLED, Dynamic Island, Công nghệ ProMotion với tốc độ làm mới thích ứng lên đến 120Hz, Màn hình Luôn Bật, Màn hình HDR, Tỷ lệ tương phản 2.000.000:1 , Màn hình True Tone, Màn hình có dải màu rộng (P3), Haptic Touch<br> Độ phân giải:\\r\\n1290 x 2796, Chính: 48MP, khẩu độ ƒ/1.78, Ultra Wide: 12MP, khẩu độ ƒ/2.2, Telephoto: 12MP, khẩu độ ƒ/2.8, Camera trước TrueDepth 12MP, khẩu độ ƒ/1.9<br> Kích thước màn hình:\\r\\n6.7 inch<br> Hệ điều hành:\\r\\niOS 17<br> Vi xử lý:\\r\\nA17 Pro<br> Bộ nhớ trong:\\r\\n256GB<br> RAM:\\r\\n8GB<br> Mạng di động:\\r\\n2G, 3G, 4G, 5G<br> Số khe SIM:\\r\\nSIM kép (nano SIM và eSIM), Hỗ trợ hai eSIM<br> | Giá hiện tại: 28,990,000 ₫ | Tuỳ chọn màu sắc: ['Titan Xanh', 'Titan Đen', 'Titan Tự Nhiên', 'Titan Trắng']\"),\n",
       " Document(metadata={'id': 'c949e32f08e4878af38241573594cc26', 'source': 'src/data/hoanghamobile_with_summary.csv', '_id': '666baeb69793e149fe73940c'}, page_content=\"Tên sản phẩm: điện thoại iphone 15 pro (512gb) - chính hãng vn/a | Khuyến mãi: - KM 1<br>- Giảm thêm 100.000đ khi khách hàng thanh toán bằng hình thức chuyển khoản ngân hàng khi mua iPhone 15 Series.<br>- KM 2<br>- Ưu đãi trả góp 0% qua thẻ tín dụng<br> | Thông số kỹ thuật: Công nghệ màn hình:\\r\\nMàn hình Super Retina XDR, Tấm nền OLED, Dynamic Island, Công nghệ ProMotion với tốc độ làm mới thích ứng lên đến 120Hz, Màn hình Luôn Bật, Màn hình HDR, Tỷ lệ tương phản 2.000.000:1 , Màn hình True Tone, Màn hình có dải màu rộng (P3), Haptic Touch<br> Độ phân giải:\\r\\n1179 x 2556, Chính: 48MP, khẩu độ ƒ/1.78, Ultra Wide: 12MP, khẩu độ ƒ/2.2, Telephoto: 12MP, khẩu độ ƒ/2.8, Camera trước TrueDepth 12MP, khẩu độ ƒ/1.9<br> Kích thước màn hình:\\r\\n6.1 inch<br> Hệ điều hành:\\r\\niOS 17<br> Vi xử lý:\\r\\nA17 Pro<br> Bộ nhớ trong:\\r\\n512GB<br> RAM:\\r\\n8GB<br> Mạng di động:\\r\\n2G, 3G, 4G, 5G<br> Số khe SIM:\\r\\nSIM kép (nano SIM và eSIM), Hỗ trợ hai eSIM<br> | Giá hiện tại: 33,890,000 ₫ | Tuỳ chọn màu sắc: ['Titan Xanh', 'Titan Tự Nhiên', 'Titan Trắng', 'Titan Đen']\"),\n",
       " Document(metadata={'id': 'c7e7bf303024c4c73554262b3452e5c8', 'source': 'src/data/hoanghamobile_with_summary.csv', '_id': '666baeb69793e149fe73940f'}, page_content=\"Tên sản phẩm: điện thoại iphone 15 pro max (512gb) - chính hãng vn/a | Khuyến mãi: - KM 1<br>- Giảm thêm 100.000đ khi khách hàng thanh toán bằng hình thức chuyển khoản ngân hàng khi mua iPhone 15 Series.<br>- KM 2<br>- Ưu đãi trả góp 0% qua thẻ tín dụng<br> | Thông số kỹ thuật: Công nghệ màn hình:\\r\\nMàn hình Super Retina XDR, Tấm nền OLED, Dynamic Island, Công nghệ ProMotion với tốc độ làm mới thích ứng lên đến 120Hz, Màn hình Luôn Bật, Màn hình HDR, Tỷ lệ tương phản 2.000.000:1 , Màn hình True Tone, Màn hình có dải màu rộng (P3), Haptic Touch<br> Độ phân giải:\\r\\n1290 x 2796, Chính: 48MP, khẩu độ ƒ/1.78, Ultra Wide: 12MP, khẩu độ ƒ/2.2, Telephoto: 12MP, khẩu độ ƒ/2.8, Camera trước TrueDepth 12MP, khẩu độ ƒ/1.9<br> Kích thước màn hình:\\r\\n6.7 inch<br> Hệ điều hành:\\r\\niOS 17<br> Vi xử lý:\\r\\nA17 Pro<br> Bộ nhớ trong:\\r\\n512GB<br> RAM:\\r\\n8GB<br> Mạng di động:\\r\\n2G, 3G, 4G, 5G<br> Số khe SIM:\\r\\nSIM kép (nano SIM và eSIM), Hỗ trợ hai eSIM<br> | Giá hiện tại: 34,990,000 ₫ | Tuỳ chọn màu sắc: ['Titan Đen', 'Titan Tự Nhiên', 'Titan Xanh', 'Titan Trắng']\"),\n",
       " Document(metadata={'id': '6e4db420f305f7a64292b7a2d0b116d5', 'source': 'src/data/hoanghamobile_with_summary.csv', '_id': '666baeb89793e149fe739476', 'row': 199}, page_content=\"\\ntext: Tên sản phẩm: điện thoại iphone 14 plus (512gb) - chính hãng vn/a | Khuyến mãi: - KM 1<br>- Ưu đãi trả góp 0% qua thẻ tín dụng<br> | Thông số kỹ thuật: Công nghệ màn hình:\\r\\nOLED<br> Độ phân giải:\\r\\nSuper Retina XDR (1284 x 2778 Pixels), 2 camera 12 MP, 12 MP<br> Kích thước màn hình:\\r\\n6.7 inch<br> Hệ điều hành:\\r\\niOS 16<br> Vi xử lý:\\r\\nApple A15<br> Bộ nhớ trong:\\r\\n512 GB<br> RAM:\\r\\n6GB<br> Mạng di động:\\r\\nHỗ trợ 5G<br> Số khe SIM:\\r\\n1 Nano SIM & 1 eSIM<br> Dung lượng pin:\\r\\n4325 mAh<br> | Giá hiện tại: 24,990,000 ₫ | Tuỳ chọn màu sắc: ['Blue', 'Yellow', 'Purple', 'Starlight', 'Midnight']\")]"
      ]
     },
     "execution_count": 4,
     "metadata": {},
     "output_type": "execute_result"
    }
   ],
   "source": [
    "from src.utils.hybridsearch import run_hybrid_search\n",
    "res = run_hybrid_search(\n",
    "    query=\"có ip 15 128 ko bro\",\n",
    "    k=20,\n",
    "    is_bm25_enable=True\n",
    ")\n",
    "res"
   ]
  },
  {
   "cell_type": "code",
   "execution_count": 1,
   "metadata": {},
   "outputs": [],
   "source": [
    "from langchain_mcp_adapters.client import MultiServerMCPClient\n",
    "from langchain_mcp_adapters.tools import load_mcp_tools"
   ]
  },
  {
   "cell_type": "code",
   "execution_count": 1,
   "metadata": {},
   "outputs": [
    {
     "name": "stdout",
     "output_type": "stream",
     "text": [
      "[StructuredTool(name='hybrid_search', description=\"Retrieve restaurant and dish info from the knowledge base.\\nSupports:\\n- Restaurant details: name, location, cuisine, opening hours\\n- Dish details: name, ingredients, dietary info, cooking style\\nIncreasing 'k' allows fetching more candidate results for better coverage.\", args_schema={'properties': {'query': {'description': 'Restaurant or dish name, location, or type', 'maxLength': 300, 'minLength': 3, 'title': 'Query', 'type': 'string'}, 'k': {'default': 30, 'description': 'Number of top results to retrieve: 30=fast, 50=broad', 'enum': [30, 50], 'title': 'K', 'type': 'integer'}, 'cuisine': {'default': '', 'description': 'Optional cuisine type to filter results', 'maxLength': 50, 'title': 'Cuisine', 'type': 'string'}}, 'required': ['query'], 'type': 'object'}, metadata={'_meta': {'_fastmcp': {'tags': []}}}, response_format='content_and_artifact', coroutine=<function convert_mcp_tool_to_langchain_tool.<locals>.call_tool at 0x0000018DA68E2F20>)]\n",
      "meta=None content=[TextContent(type='text', text=\"Error calling tool 'hybrid_search': Connection error.\", annotations=None, meta=None)] structuredContent=None isError=True\n"
     ]
    }
   ],
   "source": [
    "from langchain_mcp_adapters.client import MultiServerMCPClient\n",
    "from langchain_mcp_adapters.tools import load_mcp_tools\n",
    "\n",
    "\n",
    "client = MultiServerMCPClient({\n",
    "    \"hybridsearch\": {\n",
    "        \"url\": \"http://localhost:8000/mcp\", \n",
    "        \"transport\": \"streamable_http\"\n",
    "    }\n",
    "})\n",
    "async with client.session(\"hybridsearch\") as session:\n",
    "    tools = await load_mcp_tools(session)\n",
    "    print(tools)\n",
    "    # call tool\n",
    "    results = await session.call_tool(\"hybrid_search\",\n",
    "    {\n",
    "        \"query\": \"có ip ko\",\n",
    "        \"k\": 30\n",
    "    })\n",
    "    print(results)"
   ]
  },
  {
   "cell_type": "code",
   "execution_count": 8,
   "metadata": {},
   "outputs": [],
   "source": [
    "import pandas as pd\n",
    "file_path=\"src\\data\\hoanghamobile_with_summary.csv\"\n",
    "df = pd.read_csv(file_path, nrows=1, encoding=\"utf-8\")\n",
    "all_columns = df.columns.tolist()\n",
    "# Define which column will be the content\n",
    "content_column = \"combined_info\"\n",
    "# All other columns go into metadata (exclude content_column)\n",
    "metadata_columns = [col for col in all_columns if col != content_column]\n",
    "\n",
    "from langchain_community.document_loaders import CSVLoader\n",
    "loader = CSVLoader(file_path,\n",
    "    csv_args={\n",
    "        'delimiter': ',',\n",
    "        'quotechar': '\"'\n",
    "    },\n",
    "    content_columns=content_column,\n",
    "    metadata_columns=metadata_columns,\n",
    "    encoding='utf-8'\n",
    ")\n",
    "documents = loader.load()"
   ]
  },
  {
   "cell_type": "code",
   "execution_count": null,
   "metadata": {},
   "outputs": [],
   "source": []
  }
 ],
 "metadata": {
  "kernelspec": {
   "display_name": ".venv",
   "language": "python",
   "name": "python3"
  },
  "language_info": {
   "codemirror_mode": {
    "name": "ipython",
    "version": 3
   },
   "file_extension": ".py",
   "mimetype": "text/x-python",
   "name": "python",
   "nbconvert_exporter": "python",
   "pygments_lexer": "ipython3",
   "version": "3.11.9"
  }
 },
 "nbformat": 4,
 "nbformat_minor": 2
}
