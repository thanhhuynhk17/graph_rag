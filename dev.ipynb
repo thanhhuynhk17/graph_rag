{
 "cells": [
  {
   "cell_type": "code",
   "execution_count": 1,
   "metadata": {},
   "outputs": [],
   "source": [
    "from langchain_mcp_adapters.client import MultiServerMCPClient\n",
    "from langchain_mcp_adapters.tools import load_mcp_tools"
   ]
  },
  {
   "cell_type": "code",
   "execution_count": null,
   "metadata": {},
   "outputs": [
    {
     "name": "stdout",
     "output_type": "stream",
     "text": [
      "[StructuredTool(name='hybrid_search', description=\"Retrieve restaurant and dish info from the knowledge base.\\nSupports:\\n- Restaurant details: name, location, cuisine, opening hours\\n- Dish details: name, ingredients, dietary info, cooking style\\nIncreasing 'k' allows fetching more candidate results for better coverage.\", args_schema={'properties': {'query': {'description': 'Restaurant or dish name, location, or type', 'maxLength': 300, 'minLength': 3, 'title': 'Query', 'type': 'string'}, 'k': {'default': 30, 'description': 'Number of top results to retrieve: 30=fast, 50=broad', 'enum': [30, 50], 'title': 'K', 'type': 'integer'}, 'cuisine': {'default': '', 'description': 'Optional cuisine type to filter results', 'maxLength': 50, 'title': 'Cuisine', 'type': 'string'}}, 'required': ['query'], 'type': 'object'}, metadata={'_meta': {'_fastmcp': {'tags': []}}}, response_format='content_and_artifact', coroutine=<function convert_mcp_tool_to_langchain_tool.<locals>.call_tool at 0x000001B9C5931F80>), StructuredTool(name='xem_schema', description='Xem schema đồ thị hiện tại.', args_schema={'properties': {}, 'type': 'object'}, metadata={'_meta': {'_fastmcp': {'tags': []}}}, response_format='content_and_artifact', coroutine=<function convert_mcp_tool_to_langchain_tool.<locals>.call_tool at 0x000001B9C5932C00>), StructuredTool(name='them_mon_an', description='Thêm món ăn mới vào thực đơn.', args_schema={'$defs': {'ThemMonReq': {'properties': {'ten_mon': {'title': 'Ten Mon', 'type': 'string'}, 'mo_ta': {'title': 'Mo Ta', 'type': 'string'}, 'gia': {'title': 'Gia', 'type': 'number'}, 'nguyen_lieu': {'items': {'type': 'string'}, 'title': 'Nguyen Lieu', 'type': 'array'}, 'tag': {'items': {'type': 'string'}, 'title': 'Tag', 'type': 'array'}}, 'required': ['ten_mon', 'mo_ta', 'gia', 'nguyen_lieu', 'tag'], 'title': 'ThemMonReq', 'type': 'object'}}, 'properties': {'req': {'$ref': '#/$defs/ThemMonReq', 'title': 'Req'}}, 'required': ['req'], 'type': 'object'}, metadata={'_meta': {'_fastmcp': {'tags': []}}}, response_format='content_and_artifact', coroutine=<function convert_mcp_tool_to_langchain_tool.<locals>.call_tool at 0x000001B9C5932660>), StructuredTool(name='tim_mon_tuong_tu', description='Tìm món ăn tương tự theo câu hỏi khách.', args_schema={'properties': {'cau_hoi': {'title': 'Cau Hoi', 'type': 'string'}, 'top_k': {'default': 5, 'title': 'Top K', 'type': 'integer'}}, 'required': ['cau_hoi'], 'type': 'object'}, metadata={'_meta': {'_fastmcp': {'tags': []}}}, response_format='content_and_artifact', coroutine=<function convert_mcp_tool_to_langchain_tool.<locals>.call_tool at 0x000001B9C5932160>), StructuredTool(name='tim_theo_gia', description='Tìm món dưới mức giá khách yêu cầu.', args_schema={'$defs': {'TimTheoGiaReq': {'properties': {'gia_max': {'title': 'Gia Max', 'type': 'integer'}}, 'required': ['gia_max'], 'title': 'TimTheoGiaReq', 'type': 'object'}}, 'properties': {'req': {'$ref': '#/$defs/TimTheoGiaReq', 'title': 'Req'}}, 'required': ['req'], 'type': 'object'}, metadata={'_meta': {'_fastmcp': {'tags': []}}}, response_format='content_and_artifact', coroutine=<function convert_mcp_tool_to_langchain_tool.<locals>.call_tool at 0x000001B9C59320C0>), StructuredTool(name='them_vao_gio', description='Thêm món vào giỏ hàng hiện tại (tao DonHang neu chua co).', args_schema={'$defs': {'GioHangReq': {'properties': {'khach_id': {'title': 'Khach Id', 'type': 'string'}, 'mon_id': {'title': 'Mon Id', 'type': 'string'}, 'so_luong': {'title': 'So Luong', 'type': 'integer'}}, 'required': ['khach_id', 'mon_id', 'so_luong'], 'title': 'GioHangReq', 'type': 'object'}}, 'properties': {'req': {'$ref': '#/$defs/GioHangReq', 'title': 'Req'}}, 'required': ['req'], 'type': 'object'}, metadata={'_meta': {'_fastmcp': {'tags': []}}}, response_format='content_and_artifact', coroutine=<function convert_mcp_tool_to_langchain_tool.<locals>.call_tool at 0x000001B9C5932F20>), StructuredTool(name='xem_gio_hang', description='Xem giỏ hàng hiện tại.', args_schema={'properties': {'khach_id': {'title': 'Khach Id', 'type': 'string'}}, 'required': ['khach_id'], 'type': 'object'}, metadata={'_meta': {'_fastmcp': {'tags': []}}}, response_format='content_and_artifact', coroutine=<function convert_mcp_tool_to_langchain_tool.<locals>.call_tool at 0x000001B9C5932FC0>), StructuredTool(name='xac_nhan_don', description=\"Khách xác nhận đơn → chuyển trạng thái sang 'cho_bep'.\", args_schema={'$defs': {'XacNhanReq': {'properties': {'khach_id': {'title': 'Khach Id', 'type': 'string'}}, 'required': ['khach_id'], 'title': 'XacNhanReq', 'type': 'object'}}, 'properties': {'req': {'$ref': '#/$defs/XacNhanReq', 'title': 'Req'}}, 'required': ['req'], 'type': 'object'}, metadata={'_meta': {'_fastmcp': {'tags': []}}}, response_format='content_and_artifact', coroutine=<function convert_mcp_tool_to_langchain_tool.<locals>.call_tool at 0x000001B9C5933060>), StructuredTool(name='goi_y_mua_kem', description='Gợi ý món thường mua kèm theo món hiện tại (market-basket).', args_schema={'properties': {'mon_id': {'title': 'Mon Id', 'type': 'string'}}, 'required': ['mon_id'], 'type': 'object'}, metadata={'_meta': {'_fastmcp': {'tags': []}}}, response_format='content_and_artifact', coroutine=<function convert_mcp_tool_to_langchain_tool.<locals>.call_tool at 0x000001B9C5933100>), StructuredTool(name='ghi_tin_nhan', description='Lưu lịch sử chat (để context sau này).', args_schema={'properties': {'khach_id': {'title': 'Khach Id', 'type': 'string'}, 'noi_dung': {'title': 'Noi Dung', 'type': 'string'}, 'vai_tro': {'default': 'user', 'title': 'Vai Tro', 'type': 'string'}}, 'required': ['khach_id', 'noi_dung'], 'type': 'object'}, metadata={'_meta': {'_fastmcp': {'tags': []}}}, response_format='content_and_artifact', coroutine=<function convert_mcp_tool_to_langchain_tool.<locals>.call_tool at 0x000001B9C59331A0>)]\n",
      "meta=None content=[TextContent(type='text', text=\"Error calling tool 'hybrid_search': not enough values to unpack (expected 3, got 0)\", annotations=None, meta=None)] structuredContent=None isError=True\n"
     ]
    }
   ],
   "source": [
    "from langchain_mcp_adapters.client import MultiServerMCPClient\n",
    "from langchain_mcp_adapters.tools import load_mcp_tools\n",
    "\n",
    "\n",
    "client = MultiServerMCPClient({\n",
    "    \"hybridsearch\": {\n",
    "        \"url\": \"http://localhost:8000/mcp\", \n",
    "        \"transport\": \"streamable_http\"\n",
    "    }\n",
    "})\n",
    "async with client.session(\"hybridsearch\") as session:\n",
    "    tools = await load_mcp_tools(session)\n",
    "    print(tools)\n",
    "    # call tool\n",
    "    results = await session.call_tool(\"hybrid_search\",\n",
    "    {\n",
    "        \"query\": \"có ip ko\",\n",
    "        \"k\": 30 \n",
    "    })\n",
    "    print(results)"
   ]
  },
  {
   "cell_type": "code",
   "execution_count": 4,
   "metadata": {},
   "outputs": [
    {
     "name": "stdout",
     "output_type": "stream",
     "text": [
      "\n",
      "=== hybrid_search ===\n",
      "[{\"line\":\"D0013, MÓN ĂN CHƠI, Bánh hỏi heo quay, Heo quay da giòn ăn cùng bánh hỏi và rau sống, nước mắm, Heo quay, bánh hỏi, rau sống, nước mắm chua ngọt, Đồ mặn, Heo quay và mắm chua chua ngọt, 189000, 2-3\"},{\"line\":\"D0025, MÓN GỎI, Bò trộn salad, Thịt bò áp chảo hoặc luộc tái, cắt lát mỏng, trộn cùng rau xà lách, cà chua, hành tây và sốt dầu giấm., Thịt bò, xà lách, cà chua, hành tây, dầu giấm, Đồ chua ngọt, Mùi thơm thịt bò áp chảo, thoảng mùi tiêu, hành tây sống, 160000, 2-3\"},{\"line\":\"D0026, MÓN GỎI, Gỏi mực chua cay, Mực luộc chín vừa, cắt khoanh; trộn với hành tây, cà rốt, rau răm, ớt và nước mắm pha chua ngọt., Mực tươi, hành tây, cà rốt, rau răm, ớt, nước mắm – chanh – đường., Đồ chua, cay, ngọt, Mùi cay nồng của ớt, rau răm, 160000, 2-3\"},{\"line\":\"D0028, MÓN GỎI, Gỏi dưa leo tôm khô, Dưa leo bào sợi, trộn cùng tôm khô đã ngâm mềm, hành phi, rau thơm và nước mắm pha chua ngọt., Dưa leo, tôm khô, hành phi, rau thơm, Đồ chua ngọt, Tôm khô, hành phi vàng giòn, rau thơm, 150000, 2-3\"},{\"line\":\"D0030, MÓN GỎI, Gỏi gà bắp chuối, Thịt gà xé nhỏ, trộn với bắp chuối bào sợi, rau thơm, hành phi, lạc rang và nước mắm chua ngọt., Thịt gà, bắp chuối, rau thơm, đậu phộng, Đồ chua ngọt, Thịt gà, hành phi, rau thơm, 160000, 2-3\"},{\"line\":\"D0031, MÓN GỎI, Gỏi xoài tôm khô, Xoài xanh bào sợi, trộn với tôm khô rang, rau răm, ớt, đậu phộng rang và nước mắm chua ngọt., Xoài xanh, tôm khô, đậu phổng, Đồ chua ngọt, Mùi tôm khô, rau răm, đậu phộng rang, 160000, 2-3\"},{\"line\":\"D0032, MÓN GỎI, Gỏi ngó sen tôm thịt, Ngó sen chẻ nhỏ, trộn cùng tôm luộc, thịt ba chỉ, cà rốt, hành tây, rau răm và nước mắm chua ngọt., Ngó sen, tôm, thịt ba chỉ, rau răm, Đồ chua ngọt, Hành phi giòn, rau răm, tôm thịt luộc, 160000, 2-3\"},{\"line\":\"D0033, MÓN GỎI, Gỏi cuốn bò áp chảo, Bò thái lát mỏng, ướp gia vị rồi áp chảo, cuốn với bún, rau sống và bánh tráng mỏng. Ăn kèm nước chấm chua ngọt hoặc sốt tương, Thịt bò, bánh tráng, bún, rau sống, Đồ mặn, Thịt bò áp chảo, rau thơm, 160000, 2-3\"},{\"line\":\"D0044, MÓN CÁ, Cá trứng chiên mắm me, Cá trứng chiên giòn, chan sốt me chua ngọt mặn cay, Cá trứng, me, đường, ớt, nước mắm, Đồ béo, mặn, chua ngọt, Cá trứng chiên, nước mắm me chua ngọt, 160000, 2-3\"},{\"line\":\"D0047, MÓN CÁ, Cá trê chiên mắm xoài, Cá trê chiên giòn, rưới sốt mắm pha xoài băm chua ngọt, Cá trê, xoài xanh, nước mắm, đường, ớt, Đồ béo, mặn ngọt, Cá trê chiên giòn, nước mắm xoài xanh, 150000, 2-3\"}]\n"
     ]
    }
   ],
   "source": [
    "import asyncio\n",
    "from langchain_mcp_adapters.client import MultiServerMCPClient\n",
    "from langchain_mcp_adapters.tools import load_mcp_tools\n",
    "\n",
    "client = MultiServerMCPClient({\n",
    "    \"restaurant\": {\n",
    "        \"url\": \"http://localhost:8000/mcp\",\n",
    "        \"transport\": \"streamable_http\"\n",
    "    }\n",
    "})\n",
    "\n",
    "async def call_tool(name, args=None):\n",
    "    async with client.session(\"restaurant\") as session:\n",
    "        result = await session.call_tool(name, args or {})\n",
    "        print(f\"\\n=== {name} ===\")\n",
    "        for content in result.content:\n",
    "            print(content.text)\n",
    "\n",
    "# 2. hybrid_search\n",
    "await call_tool(\n",
    "    \"hybrid_search\", \n",
    "    {\n",
    "        \"req\": {\n",
    "            \"query\": \"chua ngọt\", \"k\": 10\n",
    "            }\n",
    "    }\n",
    ")"
   ]
  },
  {
   "cell_type": "code",
   "execution_count": 1,
   "metadata": {},
   "outputs": [
    {
     "name": "stdout",
     "output_type": "stream",
     "text": [
      "=== Danh sách tools ===\n",
      "- hybrid_search: Tìm món ăn theo tên, tag hoặc ingredient\n",
      "- xem_schema: Xem schema graph hiện tại\n",
      "- tim_theo_gia: Tìm món ăn dưới mức giá tối đa\n",
      "- feedback_bill: Khách phản hồi → chuỗi noun-phrase\n",
      "\n",
      "=== xem_schema ===\n",
      "{\"nodes\":[{\"id\":-110,\"labels\":[\"DayOfWeek\"],\"name\":\"DayOfWeek\",\"indexes\":[],\"constraints\":[]},{\"id\":-108,\"labels\":[\"Issue\"],\"name\":\"Issue\",\"indexes\":[],\"constraints\":[\"Constraint( id=26, name='issue_name_unique', type='UNIQUENESS', schema=(:Issue {name}), ownedIndex=25 )\"]},{\"id\":-100,\"labels\":[\"Customer\"],\"name\":\"Customer\",\"indexes\":[],\"constraints\":[\"Constraint( id=4, name='cust_id', type='UNIQUENESS', schema=(:Customer {customer_id}), ownedIndex=3 )\"]},{\"id\":-102,\"labels\":[\"Ingredient\"],\"name\":\"Ingredient\",\"indexes\":[],\"constraints\":[\"Constraint( id=8, name='ing_name', type='UNIQUENESS', schema=(:Ingredient {name}), ownedIndex=7 )\"]},{\"id\":-105,\"labels\":[\"Feedback\"],\"name\":\"Feedback\",\"indexes\":[\"target_type,target_id\"],\"constraints\":[\"Constraint( id=14, name='fb_id', type='UNIQUENESS', schema=(:Feedback {feedback_id}), ownedIndex=13 )\"]},{\"id\":-107,\"labels\":[\"Staff\"],\"name\":\"Staff\",\"indexes\":[],\"constraints\":[\"Constraint( id=18, name='staff_id', type='UNIQUENESS', schema=(:Staff {staff_id}), ownedIndex=17 )\"]},{\"id\":-104,\"labels\":[\"Bill\"],\"name\":\"Bill\",\"indexes\":[\"customer_id\"],\"constraints\":[\"Constraint( id=12, name='bill_id', type='UNIQUENESS', schema=(:Bill {bill_id}), ownedIndex=11 )\"]},{\"id\":-101,\"labels\":[\"Dish\"],\"name\":\"Dish\",\"indexes\":[\"name_of_food\",\"type_of_food\",\"current_price\"],\"constraints\":[\"Constraint( id=6, name='dish_id', type='UNIQUENESS', schema=(:Dish {dish_id}), ownedIndex=5 )\"]},{\"id\":-103,\"labels\":[\"Tag\"],\"name\":\"Tag\",\"indexes\":[],\"constraints\":[\"Constraint( id=10, name='tag_name', type='UNIQUENESS', schema=(:Tag {tag}), ownedIndex=9 )\"]},{\"id\":-111,\"labels\":[\"Phrase\"],\"name\":\"Phrase\",\"indexes\":[],\"constraints\":[]},{\"id\":-106,\"labels\":[\"Promotion\"],\"name\":\"Promotion\",\"indexes\":[],\"constraints\":[\"Constraint( id=16, name='promo_id', type='UNIQUENESS', schema=(:Promotion {promo_id}), ownedIndex=15 )\"]},{\"id\":-109,\"labels\":[\"TimeSlot\"],\"name\":\"TimeSlot\",\"indexes\":[],\"constraints\":[]}],\"relationships\":[{\"id\":-106,\"type\":\"FEEDBACK_BILL\",\"start\":-100,\"end\":-104,\"name\":\"FEEDBACK_BILL\"},{\"id\":-113,\"type\":\"STARTS_WITH\",\"start\":-105,\"end\":-111,\"name\":\"STARTS_WITH\"},{\"id\":-100,\"type\":\"WRONG_DISH\",\"start\":-105,\"end\":-101,\"name\":\"WRONG_DISH\"},{\"id\":-108,\"type\":\"HABIT_AT\",\"start\":-100,\"end\":-109,\"name\":\"HABIT_AT\"},{\"id\":-110,\"type\":\"REDEEMS\",\"start\":-100,\"end\":-106,\"name\":\"REDEEMS\"},{\"id\":-111,\"type\":\"SUGGESTS\",\"start\":-107,\"end\":-101,\"name\":\"SUGGESTS\"},{\"id\":-101,\"type\":\"CONTAINS\",\"start\":-104,\"end\":-101,\"name\":\"CONTAINS\"},{\"id\":-102,\"type\":\"PLACED\",\"start\":-100,\"end\":-104,\"name\":\"PLACED\"},{\"id\":-103,\"type\":\"WROTE\",\"start\":-100,\"end\":-105,\"name\":\"WROTE\"},{\"id\":-107,\"type\":\"FOLLOWS\",\"start\":-100,\"end\":-103,\"name\":\"FOLLOWS\"},{\"id\":-112,\"type\":\"NEXT\",\"start\":-111,\"end\":-111,\"name\":\"NEXT\"},{\"id\":-104,\"type\":\"ON_DISH\",\"start\":-105,\"end\":-101,\"name\":\"ON_DISH\"},{\"id\":-105,\"type\":\"ABOUT\",\"start\":-105,\"end\":-104,\"name\":\"ABOUT\"},{\"id\":-109,\"type\":\"HABIT_ON\",\"start\":-100,\"end\":-110,\"name\":\"HABIT_ON\"}]}\n",
      "\n",
      "=== hybrid_search ===\n",
      "[{\"id\":\"D003\",\"ten\":\"Hến xúc bánh đa\",\"gia\":155000,\"so_nguoi\":\"1-2\",\"vi\":\"Đồ mặn, cay\",\"mui\":\"Vị ngọt béo tự nhiên của hến, cay nhẹ của ớt và rau răm, tiêu\"}]\n",
      "\n",
      "=== tim_theo_gia ===\n",
      "[{\"id\":\"D00120\",\"ten\":\"Trà đá\",\"d.current_price\":14000},{\"id\":\"D00116\",\"ten\":\"Củ sen\",\"d.current_price\":28000},{\"id\":\"D00118\",\"ten\":\"Nước sâm\",\"d.current_price\":28000},{\"id\":\"D00122\",\"ten\":\"Nước suối\",\"d.current_price\":30000},{\"id\":\"D00121\",\"ten\":\"Coca / 7 UP\",\"d.current_price\":35000},{\"id\":\"D00117\",\"ten\":\"Trà hoa cúc mật ong\",\"d.current_price\":39000},{\"id\":\"D00119\",\"ten\":\"Trà tắc\",\"d.current_price\":39000},{\"id\":\"D00113\",\"ten\":\"Chè đậu xanh đánh\",\"d.current_price\":55000},{\"id\":\"D00114\",\"ten\":\"Sương sa sương sáo hột é\",\"d.current_price\":55000},{\"id\":\"D00115\",\"ten\":\"Sương sa hạt lựu\",\"d.current_price\":55000},{\"id\":\"D00123\",\"ten\":\"Bia các loại (Tiger, Heineken, Saigon)\",\"d.current_price\":55000},{\"id\":\"D0024\",\"ten\":\"Salad dầu giấm\",\"d.current_price\":110000},{\"id\":\"D0082\",\"ten\":\"Trứng chiên hành\",\"d.current_price\":110000},{\"id\":\"D0093\",\"ten\":\"Cải ngồng xào dầu hào\",\"d.current_price\":115000},{\"id\":\"D0094\",\"ten\":\"Khổ qua xào trứng\",\"d.current_price\":115000},{\"id\":\"D0095\",\"ten\":\"Nụ bí xào tỏi\",\"d.current_price\":115000},{\"id\":\"D0096\",\"ten\":\"Rau muống xào tỏi\",\"d.current_price\":115000},{\"id\":\"D0097\",\"ten\":\"Đọt su xào tỏi\",\"d.current_price\":115000},{\"id\":\"D0098\",\"ten\":\"Cải bó xôi xào tỏi\",\"d.current_price\":115000},{\"id\":\"D0099\",\"ten\":\"Đậu bắp luộc chấm chao\",\"d.current_price\":115000},{\"id\":\"D00100\",\"ten\":\"Rau muống xào chao\",\"d.current_price\":115000},{\"id\":\"D00101\",\"ten\":\"Bông hẹ xào tỏi\",\"d.current_price\":115000},{\"id\":\"D0073\",\"ten\":\"Đậu hủ chiên giòn chấm mắm tôm\",\"d.current_price\":120000},{\"id\":\"D0079\",\"ten\":\"Trứng chiên thịt\",\"d.current_price\":120000},{\"id\":\"D0081\",\"ten\":\"Trứng chiên cà chua\",\"d.current_price\":120000},{\"id\":\"D0085\",\"ten\":\"Bò xào cải thìa\",\"d.current_price\":120000},{\"id\":\"D0091\",\"ten\":\"Cải thìa xào nấm đông cô\",\"d.current_price\":130000},{\"id\":\"D0092\",\"ten\":\"Rau luộc thập cẩm kho quẹt\",\"d.current_price\":130000},{\"id\":\"D0038\",\"ten\":\"Mắm chưng\",\"d.current_price\":135000},{\"id\":\"D0080\",\"ten\":\"Trứng chiên hến\",\"d.current_price\":135000},{\"id\":\"D0041\",\"ten\":\"Cá lóc kho tộ\",\"d.current_price\":140000},{\"id\":\"D0042\",\"ten\":\"Cá basa kho tộ\",\"d.current_price\":140000},{\"id\":\"D001\",\"ten\":\"Bánh xèo\",\"d.current_price\":145000},{\"id\":\"D002\",\"ten\":\"Bánh khọt nước dừa\",\"d.current_price\":145000},{\"id\":\"D0035\",\"ten\":\"Thịt kho trứng\",\"d.current_price\":145000},{\"id\":\"D005\",\"ten\":\"Cơm cháy mỡ hành chà bông\",\"d.current_price\":150000},{\"id\":\"D0014\",\"ten\":\"Xôi chiên chà bông\",\"d.current_price\":150000},{\"id\":\"D0019\",\"ten\":\"Bò viên nước lèo\",\"d.current_price\":150000},{\"id\":\"D0020\",\"ten\":\"Bò viên gân chiên\",\"d.current_price\":150000},{\"id\":\"D0021\",\"ten\":\"Chả giò tôm đất\",\"d.current_price\":150000},{\"id\":\"D0027\",\"ten\":\"Gỏi cuốn tôm thịt\",\"d.current_price\":150000},{\"id\":\"D0028\",\"ten\":\"Gỏi dưa leo tôm khô\",\"d.current_price\":150000},{\"id\":\"D0034\",\"ten\":\"Thịt kho tiêu\",\"d.current_price\":150000},{\"id\":\"D0036\",\"ten\":\"Ba rọi cháy cạnh\",\"d.current_price\":150000},{\"id\":\"D0037\",\"ten\":\"Thịt luộc cà pháo mắm tôm\",\"d.current_price\":150000},{\"id\":\"D0039\",\"ten\":\"Ba rọi mắm ruốc\",\"d.current_price\":150000},{\"id\":\"D0040\",\"ten\":\"Ba rọi rim dừa\",\"d.current_price\":150000},{\"id\":\"D0047\",\"ten\":\"Cá trê chiên mắm xoài\",\"d.current_price\":150000},{\"id\":\"D0049\",\"ten\":\"Cá sặc trộn xoài\",\"d.current_price\":150000},{\"id\":\"D0050\",\"ten\":\"Mắm kho miền Tây\",\"d.current_price\":150000},{\"id\":\"D0052\",\"ten\":\"Cá ngừ kho thơm\",\"d.current_price\":150000},{\"id\":\"D0053\",\"ten\":\"Cá nục kho khô\",\"d.current_price\":150000},{\"id\":\"D0054\",\"ten\":\"Cá nục kho măng\",\"d.current_price\":150000},{\"id\":\"D0055\",\"ten\":\"Cá điêu hồng chiên sốt cà\",\"d.current_price\":150000},{\"id\":\"D0057\",\"ten\":\"Khô cá đù\",\"d.current_price\":150000},{\"id\":\"D0058\",\"ten\":\"Khô cá dứa\",\"d.current_price\":150000},{\"id\":\"D0059\",\"ten\":\"Khô cá lóc\",\"d.current_price\":150000},{\"id\":\"D0066\",\"ten\":\"Tôm rim\",\"d.current_price\":150000},{\"id\":\"D0070\",\"ten\":\"Sườn ram mặn\",\"d.current_price\":150000},{\"id\":\"D0075\",\"ten\":\"Gà kho gừng\",\"d.current_price\":150000},{\"id\":\"D0076\",\"ten\":\"Gà sả ớt\",\"d.current_price\":150000},{\"id\":\"D0077\",\"ten\":\"Cánh gà chiên nước mắm\",\"d.current_price\":150000},{\"id\":\"D0083\",\"ten\":\"Bò xào rau muống\",\"d.current_price\":150000},{\"id\":\"D0084\",\"ten\":\"Bò xào bí nụ\",\"d.current_price\":150000},{\"id\":\"D0086\",\"ten\":\"Đọt su xào bò\",\"d.current_price\":150000},{\"id\":\"D0087\",\"ten\":\"Bò xào cải ngồng\",\"d.current_price\":150000},{\"id\":\"D0088\",\"ten\":\"Bò xào hành cần\",\"d.current_price\":150000},{\"id\":\"D0089\",\"ten\":\"Cải bó xôi xào bò\",\"d.current_price\":150000},{\"id\":\"D0090\",\"ten\":\"Bông hẹ xào bò\",\"d.current_price\":150000},{\"id\":\"D00102\",\"ten\":\"Canh diêu hồng nấu ngót\",\"d.current_price\":150000},{\"id\":\"D00104\",\"ten\":\"Canh tần ô cá thác lác/ thịt bằm\",\"d.current_price\":150000},{\"id\":\"D00105\",\"ten\":\"Canh chua cá hú\",\"d.current_price\":150000}]\n",
      "\n",
      "=== goi_y_mua_kem ===\n",
      "Unknown tool: goi_y_mua_kem\n",
      "\n",
      "=== feedback_bill ===\n",
      "[{\"feedback_id\":\"0a66549f-d684-4404-8784-d4953c1c91e2\",\"first_phrase\":\"Cơm\",\"last_phrase\":\"cay\"},{\"feedback_id\":\"0a66549f-d684-4404-8784-d4953c1c91e2\",\"first_phrase\":\"Cơm\",\"last_phrase\":\"cay\"},{\"feedback_id\":\"0a66549f-d684-4404-8784-d4953c1c91e2\",\"first_phrase\":\"Cơm\",\"last_phrase\":\"cay\"},{\"feedback_id\":\"0a66549f-d684-4404-8784-d4953c1c91e2\",\"first_phrase\":\"Cơm\",\"last_phrase\":\"cay\"},{\"feedback_id\":\"0a66549f-d684-4404-8784-d4953c1c91e2\",\"first_phrase\":\"Cơm\",\"last_phrase\":\"cay\"},{\"feedback_id\":\"0a66549f-d684-4404-8784-d4953c1c91e2\",\"first_phrase\":\"Cơm\",\"last_phrase\":\"cay\"},{\"feedback_id\":\"0a66549f-d684-4404-8784-d4953c1c91e2\",\"first_phrase\":\"Cơm\",\"last_phrase\":\"cay\"},{\"feedback_id\":\"0a66549f-d684-4404-8784-d4953c1c91e2\",\"first_phrase\":\"Cơm\",\"last_phrase\":\"cay\"}]\n",
      "\n",
      "=== feedback_bill ===\n",
      "[{\"feedback_id\":\"0255c6ed-09ca-46d1-aaa9-8dd9c7ee7f17\",\"first_phrase\":\"Món cơm\",\"last_phrase\":\"tuyệt\"},{\"feedback_id\":\"0255c6ed-09ca-46d1-aaa9-8dd9c7ee7f17\",\"first_phrase\":\"Món cơm\",\"last_phrase\":\"tuyệt\"},{\"feedback_id\":\"0255c6ed-09ca-46d1-aaa9-8dd9c7ee7f17\",\"first_phrase\":\"Món cơm\",\"last_phrase\":\"tuyệt\"},{\"feedback_id\":\"0255c6ed-09ca-46d1-aaa9-8dd9c7ee7f17\",\"first_phrase\":\"Món cơm\",\"last_phrase\":\"tuyệt\"},{\"feedback_id\":\"0255c6ed-09ca-46d1-aaa9-8dd9c7ee7f17\",\"first_phrase\":\"Món cơm\",\"last_phrase\":\"tuyệt\"},{\"feedback_id\":\"0255c6ed-09ca-46d1-aaa9-8dd9c7ee7f17\",\"first_phrase\":\"Món cơm\",\"last_phrase\":\"tuyệt\"},{\"feedback_id\":\"0255c6ed-09ca-46d1-aaa9-8dd9c7ee7f17\",\"first_phrase\":\"Món cơm\",\"last_phrase\":\"tuyệt\"},{\"feedback_id\":\"0255c6ed-09ca-46d1-aaa9-8dd9c7ee7f17\",\"first_phrase\":\"Món cơm\",\"last_phrase\":\"tuyệt\"},{\"feedback_id\":\"0255c6ed-09ca-46d1-aaa9-8dd9c7ee7f17\",\"first_phrase\":\"Món cơm\",\"last_phrase\":\"tuyệt\"},{\"feedback_id\":\"0255c6ed-09ca-46d1-aaa9-8dd9c7ee7f17\",\"first_phrase\":\"Món cơm\",\"last_phrase\":\"tuyệt\"},{\"feedback_id\":\"0255c6ed-09ca-46d1-aaa9-8dd9c7ee7f17\",\"first_phrase\":\"Món cơm\",\"last_phrase\":\"tuyệt\"},{\"feedback_id\":\"0255c6ed-09ca-46d1-aaa9-8dd9c7ee7f17\",\"first_phrase\":\"Món cơm\",\"last_phrase\":\"tuyệt\"}]\n"
     ]
    }
   ],
   "source": [
    "import asyncio\n",
    "from langchain_mcp_adapters.client import MultiServerMCPClient\n",
    "from langchain_mcp_adapters.tools import load_mcp_tools\n",
    "\n",
    "client = MultiServerMCPClient({\n",
    "    \"restaurant\": {\n",
    "        \"url\": \"http://localhost:8000/mcp\",\n",
    "        \"transport\": \"streamable_http\"\n",
    "    }\n",
    "})\n",
    "\n",
    "async def call_tool(name, args=None):\n",
    "    async with client.session(\"restaurant\") as session:\n",
    "        result = await session.call_tool(name, args or {})\n",
    "        print(f\"\\n=== {name} ===\")\n",
    "        for content in result.content:\n",
    "            print(content.text)\n",
    "\n",
    "# 1. list tools\n",
    "async with client.session(\"restaurant\") as session:\n",
    "    tools = await load_mcp_tools(session)\n",
    "    print(\"=== Danh sách tools ===\")\n",
    "    for t in tools:\n",
    "        print(f\"- {t.name}: {t.description}\")\n",
    "\n",
    "# 4. xem_schema\n",
    "tools = await call_tool(\"xem_schema\")\n",
    "\n",
    "# 2. hybrid_search\n",
    "await call_tool(\n",
    "    \"hybrid_search\", \n",
    "    {\n",
    "        \"req\": {\n",
    "            \"query\": \"cay\", \"k\": 1\n",
    "            }\n",
    "    }\n",
    ")\n",
    "\n",
    "# 3. tim_theo_gia\n",
    "await call_tool(\n",
    "    \"tim_theo_gia\",\n",
    "    {\n",
    "        \"req\": {\n",
    "            \"max_price\": 150000\n",
    "            }\n",
    "    }\n",
    ")\n",
    "\n",
    "# 5. goi_y_mua_kem\n",
    "await call_tool(\n",
    "    \"goi_y_mua_kem\", \n",
    "    { \n",
    "        \"req\" : {\n",
    "            \"dish_id\": \"D001\"\n",
    "            }\n",
    "    }\n",
    ")\n",
    "\n",
    "await call_tool(\n",
    "    \"feedback_bill\", \n",
    "    {\n",
    "    \"req\" : {\n",
    "        \"customer_id\": \"C001\",\n",
    "        \"bill_id\": \"B001\",\n",
    "        \"dish_id\": \"D001\",\n",
    "        \"text\": \"Cơm ngon lắm nha có điều ớt khô ít cay\"\n",
    "        }\n",
    "    }\n",
    ")\n",
    "\n",
    "await call_tool(\n",
    "    \"feedback_bill\", \n",
    "    {\n",
    "    \"req\" : {\n",
    "        \"customer_id\": \"C001\",\n",
    "        \"bill_id\": \"B001\",\n",
    "        \"dish_id\": \"D001\",\n",
    "        \"text\": \"Món cơm này bị mặn quá, lại còn nguội nữa rất là tuyệt\"\n",
    "        }\n",
    "    }\n",
    ")"
   ]
  },
  {
   "cell_type": "code",
   "execution_count": 4,
   "metadata": {},
   "outputs": [
    {
     "name": "stdout",
     "output_type": "stream",
     "text": [
      "\n",
      "=== feedback_bill ===\n",
      "[{\"feedback_id\":\"d383173a-f5e0-4094-a1e1-dccabe2eb129\",\"first_phrase\":\"Khá\",\"last_phrase\":\"tuyệt\"},{\"feedback_id\":\"d383173a-f5e0-4094-a1e1-dccabe2eb129\",\"first_phrase\":\"Khá\",\"last_phrase\":\"tuyệt\"}]\n"
     ]
    }
   ],
   "source": [
    "await call_tool(\n",
    "    \"feedback_bill\", \n",
    "    {\n",
    "    \"req\" : {\n",
    "        \"customer_id\": \"C001\",\n",
    "        \"bill_id\": \"B001\",\n",
    "        \"dish_id\": \"D0041\",\n",
    "        \"text\": \"Khá là tuyệt\"}\n",
    "    }\n",
    ")"
   ]
  },
  {
   "cell_type": "code",
   "execution_count": null,
   "metadata": {},
   "outputs": [],
   "source": []
  },
  {
   "cell_type": "code",
   "execution_count": 7,
   "metadata": {},
   "outputs": [
    {
     "name": "stdout",
     "output_type": "stream",
     "text": [
      "=== Danh sách tools ===\n",
      "- hybrid_search: Tìm món ăn theo tên, tag hoặc ingredient\n",
      "- xem_schema: Xem schema graph hiện tại\n",
      "- tim_theo_gia: Tìm món ăn dưới mức giá tối đa\n",
      "- goi_y_mua_kem: Gợi ý món thường được mua kèm (market-basket)\n",
      "\n",
      "=== hybrid_search ===\n",
      "meta=None content=[TextContent(type='text', text=\"Input validation error: 'req' is a required property\", annotations=None, meta=None)] structuredContent=None isError=True\n",
      "\n",
      "=== tim_theo_gia ===\n",
      "meta=None content=[TextContent(type='text', text=\"Input validation error: 'req' is a required property\", annotations=None, meta=None)] structuredContent=None isError=True\n",
      "\n",
      "=== xem_schema ===\n",
      "meta=None content=[TextContent(type='text', text=\"Error calling tool 'xem_schema': Object of type Node is not JSON serializable\", annotations=None, meta=None)] structuredContent=None isError=True\n",
      "\n",
      "=== goi_y_mua_kem ===\n",
      "meta=None content=[TextContent(type='text', text=\"Input validation error: 'req' is a required property\", annotations=None, meta=None)] structuredContent=None isError=True\n"
     ]
    }
   ],
   "source": [
    "async def test_list_tools():\n",
    "    async with client.session(\"restaurant\") as session:\n",
    "        tools = await load_mcp_tools(session)\n",
    "        print(\"=== Danh sách tools ===\")\n",
    "        for t in tools:\n",
    "            print(f\"- {t.name}: {t.description}\")\n",
    "\n",
    "await test_list_tools()\n",
    "\n",
    "await call_tool(\"hybrid_search\", {\n",
    "    \"query\": \"bún chả\",\n",
    "    \"k\": 10\n",
    "})\n",
    "\n",
    "await call_tool(\"tim_theo_gia\", {\n",
    "    \"max_price\": 50000\n",
    "})\n",
    "\n",
    "await call_tool(\"xem_schema\")\n",
    "\n",
    "await call_tool(\"goi_y_mua_kem\", {\n",
    "    \"dish_id\": \"D001\"\n",
    "})\n"
   ]
  },
  {
   "cell_type": "code",
   "execution_count": null,
   "metadata": {},
   "outputs": [
    {
     "name": "stdout",
     "output_type": "stream",
     "text": [
      "\n",
      "=== hybrid_search ===\n",
      "meta=None content=[TextContent(type='text', text=\"Input validation error: 'req' is a required property\", annotations=None, meta=None)] structuredContent=None isError=True\n"
     ]
    }
   ],
   "source": []
  },
  {
   "cell_type": "code",
   "execution_count": null,
   "metadata": {},
   "outputs": [
    {
     "name": "stdout",
     "output_type": "stream",
     "text": [
      "\n",
      "=== tim_theo_gia ===\n",
      "meta=None content=[TextContent(type='text', text=\"Input validation error: 'req' is a required property\", annotations=None, meta=None)] structuredContent=None isError=True\n",
      "\n",
      "=== xem_schema ===\n",
      "meta=None content=[TextContent(type='text', text=\"Error calling tool 'xem_schema': Object of type Node is not JSON serializable\", annotations=None, meta=None)] structuredContent=None isError=True\n"
     ]
    }
   ],
   "source": []
  },
  {
   "cell_type": "code",
   "execution_count": null,
   "metadata": {},
   "outputs": [
    {
     "name": "stdout",
     "output_type": "stream",
     "text": [
      "\n",
      "=== goi_y_mua_kem ===\n",
      "meta=None content=[TextContent(type='text', text=\"Input validation error: 'req' is a required property\", annotations=None, meta=None)] structuredContent=None isError=True\n"
     ]
    }
   ],
   "source": []
  },
  {
   "cell_type": "code",
   "execution_count": null,
   "metadata": {},
   "outputs": [
    {
     "name": "stdout",
     "output_type": "stream",
     "text": [
      "meta=None content=[TextContent(type='text', text=\"Error calling tool 'hybrid_search': not enough values to unpack (expected 3, got 0)\", annotations=None, meta=None)] structuredContent=None isError=True\n"
     ]
    }
   ],
   "source": [
    "async with client.session(\"hybridsearch\") as session:\n",
    "    results = await session.call_tool(\"hybrid_search\", {\n",
    "        \"query\": \"món bún chả\",\n",
    "        \"k\": 30\n",
    "    })\n",
    "    print(results)\n"
   ]
  },
  {
   "cell_type": "code",
   "execution_count": 5,
   "metadata": {},
   "outputs": [
    {
     "name": "stdout",
     "output_type": "stream",
     "text": [
      "meta=None content=[TextContent(type='text', text=\"Error calling tool 'xem_schema': Object of type Node is not JSON serializable\", annotations=None, meta=None)] structuredContent=None isError=True\n"
     ]
    }
   ],
   "source": [
    "async with client.session(\"hybridsearch\") as session:\n",
    "    schema = await session.call_tool(\"xem_schema\", {})\n",
    "    print(schema)\n"
   ]
  },
  {
   "cell_type": "code",
   "execution_count": 8,
   "metadata": {},
   "outputs": [],
   "source": [
    "import pandas as pd\n",
    "file_path=\"src\\data\\hoanghamobile_with_summary.csv\"\n",
    "df = pd.read_csv(file_path, nrows=1, encoding=\"utf-8\")\n",
    "all_columns = df.columns.tolist()\n",
    "# Define which column will be the content\n",
    "content_column = \"combined_info\"\n",
    "# All other columns go into metadata (exclude content_column)\n",
    "metadata_columns = [col for col in all_columns if col != content_column]\n",
    "\n",
    "from langchain_community.document_loaders import CSVLoader\n",
    "loader = CSVLoader(file_path,\n",
    "    csv_args={\n",
    "        'delimiter': ',',\n",
    "        'quotechar': '\"'\n",
    "    },\n",
    "    content_columns=content_column,\n",
    "    metadata_columns=metadata_columns,\n",
    "    encoding='utf-8'\n",
    ")\n",
    "documents = loader.load()"
   ]
  },
  {
   "cell_type": "code",
   "execution_count": null,
   "metadata": {},
   "outputs": [],
   "source": []
  }
 ],
 "metadata": {
  "kernelspec": {
   "display_name": ".venv",
   "language": "python",
   "name": "python3"
  },
  "language_info": {
   "codemirror_mode": {
    "name": "ipython",
    "version": 3
   },
   "file_extension": ".py",
   "mimetype": "text/x-python",
   "name": "python",
   "nbconvert_exporter": "python",
   "pygments_lexer": "ipython3",
   "version": "3.11.9"
  }
 },
 "nbformat": 4,
 "nbformat_minor": 2
}
