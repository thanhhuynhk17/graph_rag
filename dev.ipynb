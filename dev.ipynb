{
 "cells": [
  {
   "cell_type": "code",
   "execution_count": 1,
   "metadata": {},
   "outputs": [
    {
     "name": "stdout",
     "output_type": "stream",
     "text": [
      "NEO4J_URI: bolt://localhost:7687\n",
      "USERNAME: neo4j\n",
      "DATABASE: neo4j\n"
     ]
    }
   ],
   "source": [
    "from src.utils.hybridsearch import run_hybrid_search\n",
    "\n",
    "res = run_hybrid_search(\n",
    "    query=\"có ip 15 512 ko\",\n",
    "    k=5\n",
    ")"
   ]
  },
  {
   "cell_type": "code",
   "execution_count": 2,
   "metadata": {},
   "outputs": [
    {
     "data": {
      "text/plain": [
       "[Document(metadata={'id': '0c54b113d4ddfad62cef8326ae318d8f', 'source': 'src/data/hoanghamobile_with_summary.csv', '_id': '666baeb69793e149fe73940c', 'url': 'https://hoanghamobile.com/dien-thoai-di-dong/apple-iphone-15-pro-512gb-chinh-hang-vn-a', 'row': 84}, page_content=\"\\ntext: combined_info: Tên sản phẩm: điện thoại iphone 15 pro (512gb) - chính hãng vn/a | Khuyến mãi: - KM 1<br>- Giảm thêm 100.000đ khi khách hàng thanh toán bằng hình thức chuyển khoản ngân hàng khi mua iPhone 15 Series.<br>- KM 2<br>- Ưu đãi trả góp 0% qua thẻ tín dụng<br> | Thông số kỹ thuật: Công nghệ màn hình:\\r\\nMàn hình Super Retina XDR, Tấm nền OLED, Dynamic Island, Công nghệ ProMotion với tốc độ làm mới thích ứng lên đến 120Hz, Màn hình Luôn Bật, Màn hình HDR, Tỷ lệ tương phản 2.000.000:1 , Màn hình True Tone, Màn hình có dải màu rộng (P3), Haptic Touch<br> Độ phân giải:\\r\\n1179 x 2556, Chính: 48MP, khẩu độ ƒ/1.78, Ultra Wide: 12MP, khẩu độ ƒ/2.2, Telephoto: 12MP, khẩu độ ƒ/2.8, Camera trước TrueDepth 12MP, khẩu độ ƒ/1.9<br> Kích thước màn hình:\\r\\n6.1 inch<br> Hệ điều hành:\\r\\niOS 17<br> Vi xử lý:\\r\\nA17 Pro<br> Bộ nhớ trong:\\r\\n512GB<br> RAM:\\r\\n8GB<br> Mạng di động:\\r\\n2G, 3G, 4G, 5G<br> Số khe SIM:\\r\\nSIM kép (nano SIM và eSIM), Hỗ trợ hai eSIM<br> | Giá hiện tại: 33,890,000 ₫ | Tuỳ chọn màu sắc: ['Titan Xanh', 'Titan Tự Nhiên', 'Titan Trắng', 'Titan Đen']\"),\n",
       " Document(metadata={'id': '4940e3ec8c097cf6387cbb870d44e5ca', 'source': 'src/data/hoanghamobile_with_summary.csv', '_id': '666baeb69793e149fe739409', 'url': 'https://hoanghamobile.com/dien-thoai-di-dong/apple-iphone-15-512gb-chinh-hang-vn-a', 'row': 87}, page_content=\"\\ntext: combined_info: Tên sản phẩm: điện thoại iphone 15 (512gb) - chính hãng vn/a | Khuyến mãi: - KM 1<br>- Giảm thêm 100.000đ khi khách hàng thanh toán bằng hình thức chuyển khoản ngân hàng khi mua iPhone 15 Series.<br>- KM 2<br>- Ưu đãi trả góp 0% qua thẻ tín dụng<br> | Thông số kỹ thuật: Công nghệ màn hình:\\r\\nMàn hình Super Retina XDR, Tấm nền OLED, Dynamic Island, Màn hình HDR, Tỷ lệ tương phản 2.000.000:1 , Màn hình có dải màu rộng (P3), Haptic Touch<br> Độ phân giải:\\r\\n1179 x 2556, Chính: 48MP, khẩu độ ƒ/1.6, Ultra Wide: 12MP, khẩu độ ƒ/2.4, Camera trước TrueDepth 12MP, khẩu độ ƒ/1.9<br> Kích thước màn hình:\\r\\n6.1 inch<br> Hệ điều hành:\\r\\niOS 17<br> Vi xử lý:\\r\\nA16 Bionic<br> Bộ nhớ trong:\\r\\n512GB<br> RAM:\\r\\n6GB<br> Mạng di động:\\r\\n2G, 3G, 4G, 5G<br> Số khe SIM:\\r\\nSIM kép (nano-SIM và eSIM), Hỗ trợ hai eSIM<br> | Giá hiện tại: 27,990,000 ₫ | Tuỳ chọn màu sắc: ['Xanh Lá', 'Màu Vàng', 'Màu Đen', 'Hồng', 'Xanh Dương']\"),\n",
       " Document(metadata={'id': '9405796dec100ee930788574f300819a', 'source': 'src/data/hoanghamobile_with_summary.csv', '_id': '666baeb69793e149fe739407', 'url': 'https://hoanghamobile.com/dien-thoai-di-dong/apple-iphone-15-plus-512gb-chinh-hang-vn-a', 'row': 83}, page_content=\"\\ntext: combined_info: Tên sản phẩm: điện thoại iphone 15 plus (512gb) - chính hãng vn/a | Khuyến mãi: - KM 1<br>- Giảm thêm 100.000đ khi khách hàng thanh toán bằng hình thức chuyển khoản ngân hàng khi mua iPhone 15 Series.<br>- KM 2<br>- Ưu đãi trả góp 0% qua thẻ tín dụng<br> | Thông số kỹ thuật: Công nghệ màn hình:\\r\\nMàn hình Super Retina XDR, Tấm nền OLED, Dynamic Island, Màn hình HDR, Tỷ lệ tương phản 2.000.000:1 , Màn hình có dải màu rộng (P3), Haptic Touch<br> Độ phân giải:\\r\\n1290 x 2796, Chính: 48MP, khẩu độ ƒ/1.6, Ultra Wide: 12MP, khẩu độ ƒ/2.4, Camera trước TrueDepth 12MP, khẩu độ ƒ/1.9<br> Kích thước màn hình:\\r\\n6.7 inch<br> Hệ điều hành:\\r\\niOS 17<br> Vi xử lý:\\r\\nA16 Bionic<br> Bộ nhớ trong:\\r\\n512GB<br> RAM:\\r\\n6GB<br> Mạng di động:\\r\\n2G, 3G, 4G, 5G<br> Số khe SIM:\\r\\nSIM kép (nano-SIM và eSIM), Hỗ trợ hai eSIM<br> | Giá hiện tại: 30,890,000 ₫ | Tuỳ chọn màu sắc: ['Màu Đen', 'Màu Vàng', 'Xanh Lá', 'Hồng', 'Xanh Dương']\"),\n",
       " Document(metadata={'id': 'aaa36642a442c43e75fe1a3dc4442cb8', 'source': 'src/data/hoanghamobile_with_summary.csv', '_id': '666baeb69793e149fe73940f', 'url': 'https://hoanghamobile.com/dien-thoai-di-dong/apple-iphone-15-pro-max-512gb-chinh-hang-vn-a', 'row': 94}, page_content=\"\\ntext: combined_info: Tên sản phẩm: điện thoại iphone 15 pro max (512gb) - chính hãng vn/a | Khuyến mãi: - KM 1<br>- Giảm thêm 100.000đ khi khách hàng thanh toán bằng hình thức chuyển khoản ngân hàng khi mua iPhone 15 Series.<br>- KM 2<br>- Ưu đãi trả góp 0% qua thẻ tín dụng<br> | Thông số kỹ thuật: Công nghệ màn hình:\\r\\nMàn hình Super Retina XDR, Tấm nền OLED, Dynamic Island, Công nghệ ProMotion với tốc độ làm mới thích ứng lên đến 120Hz, Màn hình Luôn Bật, Màn hình HDR, Tỷ lệ tương phản 2.000.000:1 , Màn hình True Tone, Màn hình có dải màu rộng (P3), Haptic Touch<br> Độ phân giải:\\r\\n1290 x 2796, Chính: 48MP, khẩu độ ƒ/1.78, Ultra Wide: 12MP, khẩu độ ƒ/2.2, Telephoto: 12MP, khẩu độ ƒ/2.8, Camera trước TrueDepth 12MP, khẩu độ ƒ/1.9<br> Kích thước màn hình:\\r\\n6.7 inch<br> Hệ điều hành:\\r\\niOS 17<br> Vi xử lý:\\r\\nA17 Pro<br> Bộ nhớ trong:\\r\\n512GB<br> RAM:\\r\\n8GB<br> Mạng di động:\\r\\n2G, 3G, 4G, 5G<br> Số khe SIM:\\r\\nSIM kép (nano SIM và eSIM), Hỗ trợ hai eSIM<br> | Giá hiện tại: 34,990,000 ₫ | Tuỳ chọn màu sắc: ['Titan Đen', 'Titan Tự Nhiên', 'Titan Xanh', 'Titan Trắng']\"),\n",
       " Document(metadata={'id': '993eb1734c31e75fc0d6fb1d6fc85166', 'source': 'src/data/hoanghamobile_with_summary.csv', '_id': '666baeb89793e149fe739476', 'url': 'https://hoanghamobile.com/dien-thoai-di-dong/apple-iphone-14-plus-512gb-chinh-hang-vn-a', 'row': 199}, page_content=\"\\ntext: combined_info: Tên sản phẩm: điện thoại iphone 14 plus (512gb) - chính hãng vn/a | Khuyến mãi: - KM 1<br>- Ưu đãi trả góp 0% qua thẻ tín dụng<br> | Thông số kỹ thuật: Công nghệ màn hình:\\r\\nOLED<br> Độ phân giải:\\r\\nSuper Retina XDR (1284 x 2778 Pixels), 2 camera 12 MP, 12 MP<br> Kích thước màn hình:\\r\\n6.7 inch<br> Hệ điều hành:\\r\\niOS 16<br> Vi xử lý:\\r\\nApple A15<br> Bộ nhớ trong:\\r\\n512 GB<br> RAM:\\r\\n6GB<br> Mạng di động:\\r\\nHỗ trợ 5G<br> Số khe SIM:\\r\\n1 Nano SIM & 1 eSIM<br> Dung lượng pin:\\r\\n4325 mAh<br> | Giá hiện tại: 24,990,000 ₫ | Tuỳ chọn màu sắc: ['Blue', 'Yellow', 'Purple', 'Starlight', 'Midnight']\")]"
      ]
     },
     "execution_count": 2,
     "metadata": {},
     "output_type": "execute_result"
    }
   ],
   "source": [
    "res"
   ]
  },
  {
   "cell_type": "code",
   "execution_count": null,
   "metadata": {},
   "outputs": [],
   "source": []
  }
 ],
 "metadata": {
  "kernelspec": {
   "display_name": "lvlmui",
   "language": "python",
   "name": "python3"
  },
  "language_info": {
   "codemirror_mode": {
    "name": "ipython",
    "version": 3
   },
   "file_extension": ".py",
   "mimetype": "text/x-python",
   "name": "python",
   "nbconvert_exporter": "python",
   "pygments_lexer": "ipython3",
   "version": "3.11.10"
  }
 },
 "nbformat": 4,
 "nbformat_minor": 2
}
