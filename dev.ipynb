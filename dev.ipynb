{
 "cells": [
  {
   "cell_type": "code",
   "execution_count": 1,
   "metadata": {},
   "outputs": [
    {
     "name": "stdout",
     "output_type": "stream",
     "text": [
      "NEO4J_URI: bolt://localhost:7687\n",
      "USERNAME: neo4j\n",
      "DATABASE: neo4j\n",
      "EMBEDDINGS_MODEL: None\n"
     ]
    }
   ],
   "source": [
    "from src.utils.hybridsearch import run_hybrid_search\n",
    "\n",
    "res = run_hybrid_search(\n",
    "    query=\"có ip 15 512 ko\",\n",
    "    k=5\n",
    ")"
   ]
  },
  {
   "cell_type": "code",
   "execution_count": 2,
   "metadata": {},
   "outputs": [
    {
     "data": {
      "text/plain": [
       "[Document(metadata={'id': '82d5002647f789d4ccf8e08621f6acf5', 'source': 'data/hoanghamobile_with_summary.csv', '_id': '666baeb69793e149fe739409', 'url': 'https://hoanghamobile.com/dien-thoai-di-dong/apple-iphone-15-512gb-chinh-hang-vn-a', 'row': 87}, page_content=\"\\ntext: combined_info: Tên sản phẩm: điện thoại iphone 15 (512gb) - chính hãng vn/a | Khuyến mãi: - KM 1<br>- Giảm thêm 100.000đ khi khách hàng thanh toán bằng hình thức chuyển khoản ngân hàng khi mua iPhone 15 Series.<br>- KM 2<br>- Ưu đãi trả góp 0% qua thẻ tín dụng<br> | Thông số kỹ thuật: Công nghệ màn hình:\\nMàn hình Super Retina XDR, Tấm nền OLED, Dynamic Island, Màn hình HDR, Tỷ lệ tương phản 2.000.000:1 , Màn hình có dải màu rộng (P3), Haptic Touch<br> Độ phân giải:\\n1179 x 2556, Chính: 48MP, khẩu độ ƒ/1.6, Ultra Wide: 12MP, khẩu độ ƒ/2.4, Camera trước TrueDepth 12MP, khẩu độ ƒ/1.9<br> Kích thước màn hình:\\n6.1 inch<br> Hệ điều hành:\\niOS 17<br> Vi xử lý:\\nA16 Bionic<br> Bộ nhớ trong:\\n512GB<br> RAM:\\n6GB<br> Mạng di động:\\n2G, 3G, 4G, 5G<br> Số khe SIM:\\nSIM kép (nano-SIM và eSIM), Hỗ trợ hai eSIM<br> | Giá hiện tại: 27,990,000 ₫ | Tuỳ chọn màu sắc: ['Xanh Lá', 'Màu Vàng', 'Màu Đen', 'Hồng', 'Xanh Dương']\"),\n",
       " Document(metadata={'id': '63be8fd249f1cb268503a349793d6439', 'source': 'data/hoanghamobile_with_summary.csv', '_id': '666baeb69793e149fe739407', 'url': 'https://hoanghamobile.com/dien-thoai-di-dong/apple-iphone-15-plus-512gb-chinh-hang-vn-a', 'row': 83}, page_content=\"\\ntext: combined_info: Tên sản phẩm: điện thoại iphone 15 plus (512gb) - chính hãng vn/a | Khuyến mãi: - KM 1<br>- Giảm thêm 100.000đ khi khách hàng thanh toán bằng hình thức chuyển khoản ngân hàng khi mua iPhone 15 Series.<br>- KM 2<br>- Ưu đãi trả góp 0% qua thẻ tín dụng<br> | Thông số kỹ thuật: Công nghệ màn hình:\\nMàn hình Super Retina XDR, Tấm nền OLED, Dynamic Island, Màn hình HDR, Tỷ lệ tương phản 2.000.000:1 , Màn hình có dải màu rộng (P3), Haptic Touch<br> Độ phân giải:\\n1290 x 2796, Chính: 48MP, khẩu độ ƒ/1.6, Ultra Wide: 12MP, khẩu độ ƒ/2.4, Camera trước TrueDepth 12MP, khẩu độ ƒ/1.9<br> Kích thước màn hình:\\n6.7 inch<br> Hệ điều hành:\\niOS 17<br> Vi xử lý:\\nA16 Bionic<br> Bộ nhớ trong:\\n512GB<br> RAM:\\n6GB<br> Mạng di động:\\n2G, 3G, 4G, 5G<br> Số khe SIM:\\nSIM kép (nano-SIM và eSIM), Hỗ trợ hai eSIM<br> | Giá hiện tại: 30,890,000 ₫ | Tuỳ chọn màu sắc: ['Màu Đen', 'Màu Vàng', 'Xanh Lá', 'Hồng', 'Xanh Dương']\")]"
      ]
     },
     "execution_count": 2,
     "metadata": {},
     "output_type": "execute_result"
    }
   ],
   "source": [
    "res"
   ]
  },
  {
   "cell_type": "code",
   "execution_count": null,
   "metadata": {},
   "outputs": [],
   "source": []
  }
 ],
 "metadata": {
  "kernelspec": {
   "display_name": "agent_ui",
   "language": "python",
   "name": "python3"
  },
  "language_info": {
   "codemirror_mode": {
    "name": "ipython",
    "version": 3
   },
   "file_extension": ".py",
   "mimetype": "text/x-python",
   "name": "python",
   "nbconvert_exporter": "python",
   "pygments_lexer": "ipython3",
   "version": "3.12.11"
  }
 },
 "nbformat": 4,
 "nbformat_minor": 2
}
